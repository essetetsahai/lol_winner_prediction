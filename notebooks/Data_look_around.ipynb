{
 "cells": [
  {
   "cell_type": "code",
   "execution_count": null,
   "id": "fceb843e",
   "metadata": {},
   "outputs": [],
   "source": [
    "import pandas as pd\n",
    "import json\n",
    "from pandas.io.json import json_normalize"
   ]
  },
  {
   "cell_type": "code",
   "execution_count": null,
   "id": "8503214a",
   "metadata": {},
   "outputs": [],
   "source": [
    "champion_mastery = pd.read_csv('../data/champion_mastery.csv')\n",
    "participants_test = pd.read_csv('../data/participants_test.csv')\n",
    "participants_train = pd.read_csv('../data/participants_train.csv')\n",
    "train_winners = pd.read_csv('../data/train_winners.csv')"
   ]
  },
  {
   "cell_type": "code",
   "execution_count": null,
   "id": "b50f8ea2",
   "metadata": {},
   "outputs": [],
   "source": [
    "champion = pd.read_json('../data/champion.json')"
   ]
  },
  {
   "cell_type": "code",
   "execution_count": null,
   "id": "bc2437ff",
   "metadata": {},
   "outputs": [],
   "source": [
    "print(champion.to_string()) "
   ]
  },
  {
   "cell_type": "code",
   "execution_count": null,
   "id": "f03a5968",
   "metadata": {},
   "outputs": [],
   "source": [
    "pd.DataFrame(champion)"
   ]
  },
  {
   "cell_type": "code",
   "execution_count": null,
   "id": "56b6e7c4",
   "metadata": {},
   "outputs": [],
   "source": [
    "# Python Parsing JSON \n",
    "with open('../data/item.json') as json_file:\n",
    "    data = json.load(json_file)\n",
    "\n",
    "print(data)"
   ]
  },
  {
   "cell_type": "markdown",
   "id": "9e8d4778",
   "metadata": {},
   "source": [
    "timeline_*.json\n",
    "\n",
    "● Contains gameplay information for the first 10 minutes of each match.\n",
    "\n",
    "● Divided into 11 frames, one starting frame and one for each minute for\n",
    "the first ten minutes.\n",
    "\n",
    "○ events: gives details about events taking place in that frame. Eg.\n",
    "ITEM_PURCHASED, LEVEL_UP, CHAMPION_KILL\n",
    "\n",
    "○ participantFrames: gives player stats for each participant at the\n",
    "end of the frame. Eg. health, power, gold, damage done and\n",
    "damage taken, number of kills, level, xp"
   ]
  },
  {
   "cell_type": "code",
   "execution_count": null,
   "id": "29e2a2ac",
   "metadata": {},
   "outputs": [],
   "source": [
    "with open('../data/train_timelines/timeline_0.json') as json_file:\n",
    "    data = json.load(json_file)\n",
    "\n",
    "print(data)\n",
    "#pd.DataFrame(data)"
   ]
  },
  {
   "cell_type": "code",
   "execution_count": null,
   "id": "27475aa3",
   "metadata": {},
   "outputs": [],
   "source": [
    "print(data.keys())"
   ]
  },
  {
   "cell_type": "code",
   "execution_count": null,
   "id": "89799a00",
   "metadata": {},
   "outputs": [],
   "source": [
    "pd.json_normalize(data['frames'])"
   ]
  },
  {
   "cell_type": "code",
   "execution_count": null,
   "id": "9e2577d6",
   "metadata": {},
   "outputs": [],
   "source": [
    "pd.json_normalize(data['frames']).columns\n",
    "\n",
    "#df.columns[df.columns.str.endswith(s)]"
   ]
  },
  {
   "cell_type": "code",
   "execution_count": null,
   "id": "f5d97ac1",
   "metadata": {},
   "outputs": [],
   "source": [
    "#predictors to get from: gold differential: total gold difference between two participants "
   ]
  },
  {
   "cell_type": "code",
   "execution_count": null,
   "id": "b568d6b7",
   "metadata": {},
   "outputs": [],
   "source": [
    "print(data)"
   ]
  },
  {
   "cell_type": "code",
   "execution_count": null,
   "id": "743cddef",
   "metadata": {},
   "outputs": [],
   "source": [
    "for i in data['frames']:\n",
    "    print(i)"
   ]
  },
  {
   "cell_type": "code",
   "execution_count": null,
   "id": "3ffd3638",
   "metadata": {},
   "outputs": [],
   "source": [
    "for i in data['frames']:\n",
    "    print(len(i))"
   ]
  },
  {
   "cell_type": "code",
   "execution_count": null,
   "id": "0bc16337",
   "metadata": {},
   "outputs": [],
   "source": [
    "for i in data['frames']:\n",
    "    print(i['participantFrames'].keys())"
   ]
  },
  {
   "cell_type": "code",
   "execution_count": null,
   "id": "c7b089a6",
   "metadata": {},
   "outputs": [],
   "source": [
    "for i in data['frames']:\n",
    "    for key, value in i['participantFrames'].items():\n",
    "        if key == '10':\n",
    "            print(i['participantFrames'].keys())\n",
    "    "
   ]
  },
  {
   "cell_type": "code",
   "execution_count": null,
   "id": "d52881fb",
   "metadata": {},
   "outputs": [],
   "source": [
    "type(data['frames'])"
   ]
  },
  {
   "cell_type": "code",
   "execution_count": null,
   "id": "5c37345e",
   "metadata": {},
   "outputs": [],
   "source": [
    "for i in data['frames']:     \n",
    "    print(i['timestamp'])"
   ]
  },
  {
   "cell_type": "code",
   "execution_count": null,
   "id": "6b60f8c9",
   "metadata": {},
   "outputs": [],
   "source": [
    "len(data['frames'])"
   ]
  },
  {
   "cell_type": "code",
   "execution_count": null,
   "id": "020bb38a",
   "metadata": {},
   "outputs": [],
   "source": [
    "last_frame = data['frames'][-1]\n",
    "last_frame"
   ]
  },
  {
   "cell_type": "code",
   "execution_count": null,
   "id": "5a9a455b",
   "metadata": {},
   "outputs": [],
   "source": [
    "type(last_frame)"
   ]
  },
  {
   "cell_type": "code",
   "execution_count": null,
   "id": "8d4d29d3",
   "metadata": {},
   "outputs": [],
   "source": [
    "last_frame.keys()"
   ]
  },
  {
   "cell_type": "code",
   "execution_count": null,
   "id": "7f06051a",
   "metadata": {},
   "outputs": [],
   "source": [
    "type(last_frame['timestamp'])"
   ]
  },
  {
   "cell_type": "code",
   "execution_count": null,
   "id": "1e49b9fe",
   "metadata": {},
   "outputs": [],
   "source": [
    "#events is a list, participantFrames is a dict,  timestamp is an int\n",
    "#within events -- info about item purchased, skill_level up ...\n",
    "#within participantFrames -- info for each participant 1-10"
   ]
  },
  {
   "cell_type": "code",
   "execution_count": null,
   "id": "44c3f87b",
   "metadata": {},
   "outputs": [],
   "source": [
    "last_frame['participantFrames'] #stat for participants 1-10 at the lastframe"
   ]
  },
  {
   "cell_type": "code",
   "execution_count": null,
   "id": "7ebe5ea6",
   "metadata": {},
   "outputs": [],
   "source": [
    "type(last_frame['participantFrames'])"
   ]
  },
  {
   "cell_type": "code",
   "execution_count": null,
   "id": "7360a041",
   "metadata": {},
   "outputs": [],
   "source": [
    "last_frame['participantFrames'].keys()"
   ]
  },
  {
   "cell_type": "code",
   "execution_count": null,
   "id": "129c3ab3",
   "metadata": {},
   "outputs": [],
   "source": [
    "for keys, values in last_frame.items():\n",
    "    print(key)"
   ]
  },
  {
   "cell_type": "markdown",
   "id": "0558987d",
   "metadata": {},
   "source": [
    "# ZOOMING INTO PARTICIPANT FRAMES OF THE LAST FRAME"
   ]
  },
  {
   "cell_type": "code",
   "execution_count": null,
   "id": "02e1d170",
   "metadata": {},
   "outputs": [],
   "source": [
    "last_stats = last_frame['participantFrames']\n",
    "last_stats"
   ]
  },
  {
   "cell_type": "code",
   "execution_count": null,
   "id": "27251026",
   "metadata": {},
   "outputs": [],
   "source": [
    "type(last_stats)"
   ]
  },
  {
   "cell_type": "code",
   "execution_count": null,
   "id": "0ac7eeab",
   "metadata": {},
   "outputs": [],
   "source": [
    "last_stats.keys() #KEYS REPRESENT EACH PARTICIPANT ID"
   ]
  },
  {
   "cell_type": "code",
   "execution_count": null,
   "id": "439431a7",
   "metadata": {},
   "outputs": [],
   "source": [
    "for i, j in last_stats.items():\n",
    "    print(i,j['currentGold'], j['totalGold'], j['xp'])"
   ]
  },
  {
   "cell_type": "code",
   "execution_count": null,
   "id": "95f75a27",
   "metadata": {},
   "outputs": [],
   "source": [
    "participantid = []\n",
    "currentgold = []\n",
    "totalgold = []\n",
    "xp = []\n",
    "\n",
    "for i, j in last_stats.items():\n",
    "    participantid.append(i)\n",
    "    currentgold.append(j['currentGold'])\n",
    "    totalgold.append(j['totalGold'])\n",
    "    xp.append(j['xp'])"
   ]
  },
  {
   "cell_type": "code",
   "execution_count": null,
   "id": "5e86bb09",
   "metadata": {},
   "outputs": [],
   "source": [
    "di = {'participantid' : participantid, 'currentgold': currentgold, 'totalgold':totalgold, 'xp': xp}\n",
    "z = pd.DataFrame(di)\n",
    "z"
   ]
  },
  {
   "cell_type": "code",
   "execution_count": null,
   "id": "2975bb6e",
   "metadata": {},
   "outputs": [],
   "source": [
    "this also needs to have matchId, teamId"
   ]
  },
  {
   "cell_type": "code",
   "execution_count": null,
   "id": "dcb731a3",
   "metadata": {},
   "outputs": [],
   "source": [
    "data['matchId']"
   ]
  },
  {
   "cell_type": "code",
   "execution_count": null,
   "id": "8b1edc01",
   "metadata": {},
   "outputs": [],
   "source": [
    "#duplicating above table but start from data:\n",
    "participantid = []\n",
    "currentgold = []\n",
    "totalgold = []\n",
    "xp = []\n",
    "matchid = []\n",
    "teamid = []\n",
    "\n",
    "    \n",
    "for i, j in data['frames'][-1]['participantFrames'].items():  #looks at last frame, looks at participantFrames equiv to last_stats\n",
    "    participantid.append(i)\n",
    "    currentgold.append(j['currentGold'])\n",
    "    totalgold.append(j['totalGold'])\n",
    "    xp.append(j['xp'])\n",
    "    matchid.append(data['matchId'])\n",
    "    if int(i) < 6:\n",
    "        teamid.append('100')\n",
    "    else:\n",
    "        teamid.append('200')\n",
    "        \n",
    "    \n",
    "  "
   ]
  },
  {
   "cell_type": "code",
   "execution_count": null,
   "id": "9c5879b1",
   "metadata": {},
   "outputs": [],
   "source": [
    "di = {'matchid':matchid, 'teamid':teamid, 'participantid' : participantid, 'currentgold': currentgold, 'totalgold':totalgold, 'xp': xp}\n",
    "z = pd.DataFrame(di)\n",
    "z"
   ]
  },
  {
   "cell_type": "markdown",
   "id": "9a3eb3bf",
   "metadata": {},
   "source": [
    "# Scale to all train_timelines files"
   ]
  },
  {
   "cell_type": "code",
   "execution_count": null,
   "id": "4a8bf789",
   "metadata": {},
   "outputs": [],
   "source": [
    "import os\n",
    "import glob"
   ]
  },
  {
   "cell_type": "code",
   "execution_count": null,
   "id": "9d42c505",
   "metadata": {},
   "outputs": [],
   "source": [
    "folder_path = '../data/train_timelines/'\n",
    "file_list = glob.glob(os.path.join(folder_path, '*.json'))"
   ]
  },
  {
   "cell_type": "code",
   "execution_count": null,
   "id": "dd4f93bc",
   "metadata": {},
   "outputs": [],
   "source": [
    "file_list"
   ]
  },
  {
   "cell_type": "code",
   "execution_count": null,
   "id": "69398d9d",
   "metadata": {},
   "outputs": [],
   "source": [
    "participantid = []\n",
    "currentgold = []\n",
    "totalgold = []\n",
    "xp = []\n",
    "matchid = []\n",
    "teamid = []\n",
    "\n",
    "\n",
    "def my_code(file_path):\n",
    "    with open(file_path) as json_file:\n",
    "        data = json.load(json_file)\n",
    "    matchida= data['matchId']\n",
    "    for i, j in data['frames'][-1]['participantFrames'].items():  #looks at last frame, looks at participantFrames equiv to last_stats\n",
    "        participantid.append(i)\n",
    "        currentgold.append(j['currentGold'])\n",
    "        totalgold.append(j['totalGold'])\n",
    "        xp.append(j['xp'])\n",
    "        matchid.append(matchida)\n",
    "        if int(i) < 6:\n",
    "            teamid.append('100')\n",
    "        else:\n",
    "            teamid.append('200')\n",
    "        \n",
    "    \n",
    "   \n"
   ]
  },
  {
   "cell_type": "code",
   "execution_count": null,
   "id": "eb628b08",
   "metadata": {},
   "outputs": [],
   "source": [
    "count = 0\n",
    "for file in file_list:\n",
    "    #print('loading file: ' + str(count))\n",
    "    my_code(file)\n",
    "    count+=1\n",
    "print(\"done with loading files.. \" + str(count) + \" files loaded\")"
   ]
  },
  {
   "cell_type": "code",
   "execution_count": null,
   "id": "a87e3e80",
   "metadata": {
    "scrolled": true
   },
   "outputs": [],
   "source": [
    "di = {'matchid':matchid, 'teamid':teamid, 'participantid' : participantid, 'currentgold': currentgold, 'totalgold':totalgold, 'xp': xp}\n",
    "z = pd.DataFrame(di)\n",
    "z"
   ]
  },
  {
   "cell_type": "code",
   "execution_count": null,
   "id": "b195e524",
   "metadata": {},
   "outputs": [],
   "source": [
    "z.head(20)"
   ]
  },
  {
   "cell_type": "code",
   "execution_count": null,
   "id": "994abdd6",
   "metadata": {},
   "outputs": [],
   "source": [
    "z['matchid'].nunique()"
   ]
  },
  {
   "cell_type": "code",
   "execution_count": null,
   "id": "ff9538bf",
   "metadata": {},
   "outputs": [],
   "source": [
    "gold_data = pd.DataFrame(z.groupby(['matchid', 'teamid'])['currentgold'].sum()).reset_index()\n",
    "gold_data"
   ]
  },
  {
   "cell_type": "code",
   "execution_count": null,
   "id": "0f473fd8",
   "metadata": {},
   "outputs": [],
   "source": [
    "train_winners.head()"
   ]
  },
  {
   "cell_type": "code",
   "execution_count": null,
   "id": "e59cf6ba",
   "metadata": {},
   "outputs": [],
   "source": [
    "gold_winner = pd.merge(gold_data, train_winners, left_on='matchid', right_on='matchId').drop('matchid', axis = 1)"
   ]
  },
  {
   "cell_type": "code",
   "execution_count": null,
   "id": "8e8a0bd7",
   "metadata": {},
   "outputs": [],
   "source": [
    "gold_winner.head(10)"
   ]
  }
 ],
 "metadata": {
  "kernelspec": {
   "display_name": "Python 3",
   "language": "python",
   "name": "python3"
  },
  "language_info": {
   "codemirror_mode": {
    "name": "ipython",
    "version": 3
   },
   "file_extension": ".py",
   "mimetype": "text/x-python",
   "name": "python",
   "nbconvert_exporter": "python",
   "pygments_lexer": "ipython3",
   "version": "3.8.8"
  }
 },
 "nbformat": 4,
 "nbformat_minor": 5
}
