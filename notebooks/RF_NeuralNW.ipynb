{
 "cells": [
  {
   "cell_type": "code",
   "execution_count": 1,
   "id": "7499ddb6",
   "metadata": {},
   "outputs": [],
   "source": [
    "import pandas as pd\n",
    "import numpy as np\n",
    "import json\n",
    "from sklearn.linear_model import LogisticRegression\n",
    "from sklearn.pipeline import Pipeline\n",
    "from sklearn.preprocessing import OneHotEncoder, PolynomialFeatures, StandardScaler\n",
    "from sklearn.compose import ColumnTransformer\n",
    "from sklearn.feature_selection import VarianceThreshold\n",
    "from sklearn.metrics import accuracy_score"
   ]
  },
  {
   "cell_type": "code",
   "execution_count": 2,
   "id": "944f00dd",
   "metadata": {},
   "outputs": [],
   "source": [
    "y_train = pd.read_csv('../data/train_winners.csv')"
   ]
  },
  {
   "cell_type": "code",
   "execution_count": 3,
   "id": "cdb94036",
   "metadata": {},
   "outputs": [],
   "source": [
    "f = open('../data/train_timelines/train_timelines/timeline_{matchIds}.json'.format(matchIds = 1091))\n",
    "\n",
    "data = json.load(f)"
   ]
  },
  {
   "cell_type": "markdown",
   "id": "f7c917e4",
   "metadata": {},
   "source": [
    "**Looking into gold and XP**"
   ]
  },
  {
   "cell_type": "code",
   "execution_count": 4,
   "id": "6bd9cc95",
   "metadata": {},
   "outputs": [],
   "source": [
    "df = []"
   ]
  },
  {
   "cell_type": "code",
   "execution_count": 5,
   "id": "60958823",
   "metadata": {},
   "outputs": [],
   "source": [
    "for matchId in range(0, 8000):\n",
    "    f = open('../data/train_timelines/train_timelines/timeline_{matchIds}.json'.format(matchIds = matchId))\n",
    "    \n",
    "    data = json.load(f)\n",
    "    df.append({\n",
    "        'matchId' : matchId,\n",
    "        'blueGold' : (\n",
    "            data['frames'][-1]['participantFrames']['1']['totalGold'] +\n",
    "            data['frames'][-1]['participantFrames']['2']['totalGold'] +\n",
    "            data['frames'][-1]['participantFrames']['3']['totalGold'] +\n",
    "            data['frames'][-1]['participantFrames']['4']['totalGold'] +\n",
    "            data['frames'][-1]['participantFrames']['5']['totalGold']\n",
    "        ),\n",
    "        'blueXP' : (\n",
    "            data['frames'][-1]['participantFrames']['1']['xp'] +\n",
    "            data['frames'][-1]['participantFrames']['2']['xp'] +\n",
    "            data['frames'][-1]['participantFrames']['3']['xp'] +\n",
    "            data['frames'][-1]['participantFrames']['4']['xp'] +\n",
    "            data['frames'][-1]['participantFrames']['5']['xp']\n",
    "        ),\n",
    "        'redGold' : (\n",
    "            data['frames'][-1]['participantFrames']['6']['totalGold'] + \n",
    "            data['frames'][-1]['participantFrames']['7']['totalGold'] +\n",
    "            data['frames'][-1]['participantFrames']['8']['totalGold'] +\n",
    "            data['frames'][-1]['participantFrames']['9']['totalGold'] +\n",
    "            data['frames'][-1]['participantFrames']['10']['totalGold']\n",
    "        ),\n",
    "        'redXP' : (\n",
    "            data['frames'][-1]['participantFrames']['6']['xp'] + \n",
    "            data['frames'][-1]['participantFrames']['7']['xp'] +\n",
    "            data['frames'][-1]['participantFrames']['8']['xp'] +\n",
    "            data['frames'][-1]['participantFrames']['9']['xp'] +\n",
    "            data['frames'][-1]['participantFrames']['10']['xp']\n",
    "        )\n",
    "    })"
   ]
  },
  {
   "cell_type": "code",
   "execution_count": 6,
   "id": "037017b4",
   "metadata": {},
   "outputs": [],
   "source": [
    "X_train = pd.DataFrame(df)"
   ]
  },
  {
   "cell_type": "markdown",
   "id": "fdf00aef",
   "metadata": {},
   "source": [
    "**Not using difference in gold/xp, and using team totals.**"
   ]
  },
  {
   "cell_type": "code",
   "execution_count": 7,
   "id": "cc1e50a8",
   "metadata": {},
   "outputs": [],
   "source": [
    "gold = ['blueGold', 'redGold']\n",
    "xp = ['blueXP', 'redXP']\n",
    "both = ['blueGold', 'redGold', 'blueXP', 'redXP']"
   ]
  },
  {
   "cell_type": "markdown",
   "id": "6cbd8443",
   "metadata": {},
   "source": [
    "**Just gold**"
   ]
  },
  {
   "cell_type": "code",
   "execution_count": 8,
   "id": "365a5788",
   "metadata": {},
   "outputs": [
    {
     "data": {
      "text/plain": [
       "0.705375"
      ]
     },
     "execution_count": 8,
     "metadata": {},
     "output_type": "execute_result"
    }
   ],
   "source": [
    "logreg = LogisticRegression().fit(X_train[gold], y_train['winner'] == 100)\n",
    "\n",
    "accuracy_score(y_train['winner'] == 100, logreg.predict(X_train[gold]))"
   ]
  },
  {
   "cell_type": "markdown",
   "id": "cda4b2d5",
   "metadata": {},
   "source": [
    "**Just xp**"
   ]
  },
  {
   "cell_type": "code",
   "execution_count": 9,
   "id": "21a3d1f3",
   "metadata": {},
   "outputs": [
    {
     "data": {
      "text/plain": [
       "0.672"
      ]
     },
     "execution_count": 9,
     "metadata": {},
     "output_type": "execute_result"
    }
   ],
   "source": [
    "logreg = LogisticRegression().fit(X_train[xp], y_train['winner'] == 100)\n",
    "\n",
    "accuracy_score(y_train['winner'] == 100, logreg.predict(X_train[xp]))"
   ]
  },
  {
   "cell_type": "markdown",
   "id": "6d191359",
   "metadata": {},
   "source": [
    "**Gold/xp - submissionV4**"
   ]
  },
  {
   "cell_type": "code",
   "execution_count": 10,
   "id": "4a3fc56b",
   "metadata": {},
   "outputs": [
    {
     "data": {
      "text/plain": [
       "0.70975"
      ]
     },
     "execution_count": 10,
     "metadata": {},
     "output_type": "execute_result"
    }
   ],
   "source": [
    "logreg = LogisticRegression().fit(X_train[both], y_train['winner'] == 100)\n",
    "\n",
    "accuracy_score(y_train['winner'] == 100, logreg.predict(X_train[both]))"
   ]
  },
  {
   "cell_type": "code",
   "execution_count": 11,
   "id": "924c2fb9",
   "metadata": {},
   "outputs": [],
   "source": [
    "df = []\n",
    "\n",
    "for matchId in range(8000, 10000):\n",
    "    f = open('../data/test_timelines/test_timelines/timeline_{matchIds}.json'.format(matchIds = matchId))\n",
    "    \n",
    "    data = json.load(f)\n",
    "    df.append({\n",
    "        'matchId' : matchId,\n",
    "        'blueGold' : (\n",
    "            data['frames'][-1]['participantFrames']['1']['totalGold'] +\n",
    "            data['frames'][-1]['participantFrames']['2']['totalGold'] +\n",
    "            data['frames'][-1]['participantFrames']['3']['totalGold'] +\n",
    "            data['frames'][-1]['participantFrames']['4']['totalGold'] +\n",
    "            data['frames'][-1]['participantFrames']['5']['totalGold']\n",
    "        ),\n",
    "        'blueXP' : (\n",
    "            data['frames'][-1]['participantFrames']['1']['xp'] +\n",
    "            data['frames'][-1]['participantFrames']['2']['xp'] +\n",
    "            data['frames'][-1]['participantFrames']['3']['xp'] +\n",
    "            data['frames'][-1]['participantFrames']['4']['xp'] +\n",
    "            data['frames'][-1]['participantFrames']['5']['xp']\n",
    "        ),\n",
    "        'redGold' : (\n",
    "            data['frames'][-1]['participantFrames']['6']['totalGold'] + \n",
    "            data['frames'][-1]['participantFrames']['7']['totalGold'] +\n",
    "            data['frames'][-1]['participantFrames']['8']['totalGold'] +\n",
    "            data['frames'][-1]['participantFrames']['9']['totalGold'] +\n",
    "            data['frames'][-1]['participantFrames']['10']['totalGold']\n",
    "        ),\n",
    "        'redXP' : (\n",
    "            data['frames'][-1]['participantFrames']['6']['xp'] + \n",
    "            data['frames'][-1]['participantFrames']['7']['xp'] +\n",
    "            data['frames'][-1]['participantFrames']['8']['xp'] +\n",
    "            data['frames'][-1]['participantFrames']['9']['xp'] +\n",
    "            data['frames'][-1]['participantFrames']['10']['xp']\n",
    "        )\n",
    "    })\n",
    "    \n",
    "X_test = pd.DataFrame(df)"
   ]
  },
  {
   "cell_type": "code",
   "execution_count": 12,
   "id": "d6d2c826",
   "metadata": {},
   "outputs": [],
   "source": [
    "submissionV4 = X_test[['matchId']]\n",
    "submissionV4 = submissionV4.copy()\n",
    "submissionV4['win'] = logreg.predict(X_test[both])\n",
    "submissionV4['winner'] = np.where(submissionV4['win'] == True, 100, 200)\n",
    "submissionV4 = submissionV4[['matchId', 'winner']]"
   ]
  },
  {
   "cell_type": "code",
   "execution_count": 13,
   "id": "4e584737",
   "metadata": {},
   "outputs": [],
   "source": [
    "#submissionV4.to_csv('../submissions/submissionV4.csv', index = False)"
   ]
  },
  {
   "cell_type": "markdown",
   "id": "ba6e24b0",
   "metadata": {},
   "source": [
    "**Using difference in gold/xp, and using team totals**"
   ]
  },
  {
   "cell_type": "code",
   "execution_count": 14,
   "id": "d1592e5e",
   "metadata": {},
   "outputs": [],
   "source": [
    "X_train['goldDifference'] = X_train['blueGold'] - X_train['redGold']\n",
    "\n",
    "X_train['xpDifference'] = X_train['blueXP'] - X_train['redXP']\n",
    "\n",
    "gold = ['goldDifference']\n",
    "xp = ['xpDifference']\n",
    "both = ['goldDifference', 'xpDifference']"
   ]
  },
  {
   "cell_type": "markdown",
   "id": "5c48ab41",
   "metadata": {},
   "source": [
    "**Just Gold**"
   ]
  },
  {
   "cell_type": "code",
   "execution_count": 15,
   "id": "4e9a53e4",
   "metadata": {},
   "outputs": [
    {
     "data": {
      "text/plain": [
       "0.7055"
      ]
     },
     "execution_count": 15,
     "metadata": {},
     "output_type": "execute_result"
    }
   ],
   "source": [
    "logreg = LogisticRegression().fit(X_train[gold], y_train['winner'] == 100)\n",
    "\n",
    "accuracy_score(y_train['winner'] == 100, logreg.predict(X_train[gold]))"
   ]
  },
  {
   "cell_type": "markdown",
   "id": "0f57739f",
   "metadata": {},
   "source": [
    "**Just xp**"
   ]
  },
  {
   "cell_type": "code",
   "execution_count": 16,
   "id": "5125ce9c",
   "metadata": {},
   "outputs": [
    {
     "data": {
      "text/plain": [
       "0.6715"
      ]
     },
     "execution_count": 16,
     "metadata": {},
     "output_type": "execute_result"
    }
   ],
   "source": [
    "logreg = LogisticRegression().fit(X_train[xp], y_train['winner'] == 100)\n",
    "\n",
    "accuracy_score(y_train['winner'] == 100, logreg.predict(X_train[xp]))"
   ]
  },
  {
   "cell_type": "markdown",
   "id": "71ed44b3",
   "metadata": {},
   "source": [
    "**Gold/xp**"
   ]
  },
  {
   "cell_type": "code",
   "execution_count": 17,
   "id": "43d413f3",
   "metadata": {},
   "outputs": [
    {
     "data": {
      "text/plain": [
       "0.70825"
      ]
     },
     "execution_count": 17,
     "metadata": {},
     "output_type": "execute_result"
    }
   ],
   "source": [
    "logreg = LogisticRegression().fit(X_train[both], y_train['winner'] == 100)\n",
    "\n",
    "accuracy_score(y_train['winner'] == 100, logreg.predict(X_train[both]))"
   ]
  },
  {
   "cell_type": "markdown",
   "id": "ed2769d4",
   "metadata": {},
   "source": [
    "**Adding kills to gold/xp totals**"
   ]
  },
  {
   "cell_type": "code",
   "execution_count": 18,
   "id": "0e44184a",
   "metadata": {},
   "outputs": [],
   "source": [
    "df = []\n",
    "\n",
    "for matchId in range(0, 8000):\n",
    "    f = open('../data/train_timelines/train_timelines/timeline_{matchIds}.json'.format(matchIds = matchId))\n",
    "    \n",
    "    data = json.load(f)\n",
    "    for frame in range(len(data['frames']) - 1, -1, -1):\n",
    "        for i in range(0, len(data['frames'][frame]['events'])):\n",
    "            if data['frames'][frame]['events'][i]['type']  == 'CHAMPION_KILL':\n",
    "                if data['frames'][frame]['events'][i]['killerId'] < 6:\n",
    "                    df.append({\n",
    "                        'matchId' : matchId,\n",
    "                        'blueKills' : 1,\n",
    "                        'redKills' : 0\n",
    "\n",
    "                    })\n",
    "                else:\n",
    "                    df.append({\n",
    "                        'matchId' : matchId,\n",
    "                        'blueKills' : 0,\n",
    "                        'redKills' : 1\n",
    "\n",
    "                    })\n",
    "            else:\n",
    "                pass\n",
    "\n",
    "killsTrain = pd.DataFrame(df).groupby('matchId').sum().reset_index()"
   ]
  },
  {
   "cell_type": "code",
   "execution_count": 19,
   "id": "ac5109e0",
   "metadata": {},
   "outputs": [],
   "source": [
    "X_train = X_train.merge(right = killsTrain, on = ['matchId'], how = 'left').fillna(0)\n",
    "\n",
    "kills = ['blueGold', 'redGold', 'blueXP', 'redXP', 'blueKills', 'redKills']"
   ]
  },
  {
   "cell_type": "markdown",
   "id": "6c1beadc",
   "metadata": {},
   "source": [
    "**Not using difference in gold/xp/kills, and using team totals.**"
   ]
  },
  {
   "cell_type": "code",
   "execution_count": 20,
   "id": "f6eb1e14",
   "metadata": {},
   "outputs": [
    {
     "data": {
      "text/plain": [
       "0.70975"
      ]
     },
     "execution_count": 20,
     "metadata": {},
     "output_type": "execute_result"
    }
   ],
   "source": [
    "logreg = LogisticRegression().fit(X_train[kills], y_train['winner'] == 100)\n",
    "\n",
    "accuracy_score(y_train['winner'] == 100, logreg.predict(X_train[kills]))"
   ]
  },
  {
   "cell_type": "markdown",
   "id": "1e29a506",
   "metadata": {},
   "source": [
    "**Adding dragons to gold/xp/kills totals**"
   ]
  },
  {
   "cell_type": "code",
   "execution_count": 21,
   "id": "e8fd01e0",
   "metadata": {},
   "outputs": [],
   "source": [
    "df = []\n",
    "\n",
    "for matchId in range(0, 8000):\n",
    "    f = open('../data/train_timelines/train_timelines/timeline_{matchIds}.json'.format(matchIds = matchId))\n",
    "    \n",
    "    data = json.load(f)\n",
    "    for frame in range(len(data['frames']) - 1, -1, -1):\n",
    "        for i in range(0, len(data['frames'][frame]['events'])):\n",
    "            if data['frames'][frame]['events'][i]['type']  == 'ELITE_MONSTER_KILL':\n",
    "                if data['frames'][frame]['events'][i]['monsterType']  == 'DRAGON':\n",
    "                    if data['frames'][frame]['events'][i]['killerTeamId'] == 100:\n",
    "                        df.append({\n",
    "                            'matchId' : matchId,\n",
    "                            'blueDragons' : 1,\n",
    "                            'redDragons' : 0\n",
    "                        })\n",
    "                    else:\n",
    "                        df.append({\n",
    "                            'matchId' : matchId,\n",
    "                            'blueDragons' : 0,\n",
    "                            'redDragons' : 1\n",
    "                        })\n",
    "                else:\n",
    "                    pass\n",
    "            else:\n",
    "                pass\n",
    "\n",
    "dragonsTrain = pd.DataFrame(df).groupby('matchId').sum().reset_index()"
   ]
  },
  {
   "cell_type": "code",
   "execution_count": 22,
   "id": "f1afef94",
   "metadata": {},
   "outputs": [],
   "source": [
    "X_train = X_train.merge(right = dragonsTrain, on = ['matchId'], how = 'left').fillna(0)\n",
    "\n",
    "dragons = ['blueGold', 'redGold', 'blueXP', 'redXP', 'blueKills', 'redKills', 'blueDragons', 'redDragons']"
   ]
  },
  {
   "cell_type": "markdown",
   "id": "83fd41eb",
   "metadata": {},
   "source": [
    "**Not using difference in gold/xp/kills/dragons, and using team totals.**"
   ]
  },
  {
   "cell_type": "code",
   "execution_count": 23,
   "id": "615f4aaa",
   "metadata": {},
   "outputs": [
    {
     "data": {
      "text/plain": [
       "0.70975"
      ]
     },
     "execution_count": 23,
     "metadata": {},
     "output_type": "execute_result"
    }
   ],
   "source": [
    "logreg = LogisticRegression().fit(X_train[dragons], y_train['winner'] == 100)\n",
    "\n",
    "accuracy_score(y_train['winner'] == 100, logreg.predict(X_train[dragons]))"
   ]
  },
  {
   "cell_type": "markdown",
   "id": "08215c4a",
   "metadata": {},
   "source": [
    "**Trying ridge regression using gold/xp/kills/dragons - submissionV5**"
   ]
  },
  {
   "cell_type": "code",
   "execution_count": 24,
   "id": "699a51d8",
   "metadata": {},
   "outputs": [
    {
     "data": {
      "text/plain": [
       "Pipeline(steps=[('pf',\n",
       "                 PolynomialFeatures(include_bias=False, interaction_only=True)),\n",
       "                ('vt', VarianceThreshold()), ('scaler', StandardScaler()),\n",
       "                ('logistic', LogisticRegression(max_iter=10000))])"
      ]
     },
     "execution_count": 24,
     "metadata": {},
     "output_type": "execute_result"
    }
   ],
   "source": [
    "pipe = Pipeline(\n",
    "    steps = [\n",
    "        ('pf', PolynomialFeatures(interaction_only = True, include_bias = False)),\n",
    "        ('vt', VarianceThreshold()),\n",
    "        ('scaler', StandardScaler()),\n",
    "        ('logistic', LogisticRegression(max_iter = 10000))\n",
    "    ]\n",
    ")\n",
    "\n",
    "pipe.fit(X_train[dragons], y_train['winner'] == 100)"
   ]
  },
  {
   "cell_type": "code",
   "execution_count": 25,
   "id": "90b71768",
   "metadata": {},
   "outputs": [
    {
     "data": {
      "text/plain": [
       "0.71925"
      ]
     },
     "execution_count": 25,
     "metadata": {},
     "output_type": "execute_result"
    }
   ],
   "source": [
    "accuracy_score(y_train['winner'] == 100, pipe.predict(X_train[dragons]))"
   ]
  },
  {
   "cell_type": "code",
   "execution_count": 26,
   "id": "d8cfdc6c",
   "metadata": {},
   "outputs": [],
   "source": [
    "df = []\n",
    "\n",
    "for matchId in range(8000, 10000):\n",
    "    f = open('../data/test_timelines/test_timelines/timeline_{matchIds}.json'.format(matchIds = matchId))\n",
    "    \n",
    "    data = json.load(f)\n",
    "    for frame in range(len(data['frames']) - 1, -1, -1):\n",
    "        for i in range(0, len(data['frames'][frame]['events'])):\n",
    "            if data['frames'][frame]['events'][i]['type']  == 'CHAMPION_KILL':\n",
    "                if data['frames'][frame]['events'][i]['killerId'] < 6:\n",
    "                    df.append({\n",
    "                        'matchId' : matchId,\n",
    "                        'blueKills' : 1,\n",
    "                        'redKills' : 0\n",
    "\n",
    "                    })\n",
    "                else:\n",
    "                    df.append({\n",
    "                        'matchId' : matchId,\n",
    "                        'blueKills' : 0,\n",
    "                        'redKills' : 1\n",
    "\n",
    "                    })\n",
    "            else:\n",
    "                pass\n",
    "\n",
    "killsTest = pd.DataFrame(df).groupby('matchId').sum().reset_index()"
   ]
  },
  {
   "cell_type": "code",
   "execution_count": 27,
   "id": "b7d67fa5",
   "metadata": {},
   "outputs": [],
   "source": [
    "X_test = X_test.merge(right = killsTest, on = ['matchId'], how = 'left').fillna(0)"
   ]
  },
  {
   "cell_type": "code",
   "execution_count": 28,
   "id": "a3323aeb",
   "metadata": {},
   "outputs": [],
   "source": [
    "df = []\n",
    "\n",
    "for matchId in range(8000, 10000):\n",
    "    f = open('../data/test_timelines/test_timelines/timeline_{matchIds}.json'.format(matchIds = matchId))\n",
    "    \n",
    "    data = json.load(f)\n",
    "    for frame in range(len(data['frames']) - 1, -1, -1):\n",
    "        for i in range(0, len(data['frames'][frame]['events'])):\n",
    "            if data['frames'][frame]['events'][i]['type']  == 'ELITE_MONSTER_KILL':\n",
    "                if data['frames'][frame]['events'][i]['monsterType']  == 'DRAGON':\n",
    "                    if data['frames'][frame]['events'][i]['killerTeamId'] == 100:\n",
    "                        df.append({\n",
    "                            'matchId' : matchId,\n",
    "                            'blueDragons' : 1,\n",
    "                            'redDragons' : 0\n",
    "                        })\n",
    "                    else:\n",
    "                        df.append({\n",
    "                            'matchId' : matchId,\n",
    "                            'blueDragons' : 0,\n",
    "                            'redDragons' : 1\n",
    "                        })\n",
    "                else:\n",
    "                    pass\n",
    "            else:\n",
    "                pass\n",
    "\n",
    "dragonsTest = pd.DataFrame(df).groupby('matchId').sum().reset_index()"
   ]
  },
  {
   "cell_type": "code",
   "execution_count": 29,
   "id": "0f3b804a",
   "metadata": {},
   "outputs": [],
   "source": [
    "X_test = X_test.merge(right = dragonsTest, on = ['matchId'], how = 'left').fillna(0)"
   ]
  },
  {
   "cell_type": "code",
   "execution_count": 30,
   "id": "13b3eb32",
   "metadata": {},
   "outputs": [],
   "source": [
    "submissionV5 = X_test[['matchId']]\n",
    "submissionV5 = submissionV5.copy()\n",
    "submissionV5['win'] = pipe.predict(X_test[dragons])\n",
    "submissionV5['winner'] = np.where(submissionV5['win'] == True, 100, 200)\n",
    "submissionV5 = submissionV5[['matchId', 'winner']]"
   ]
  },
  {
   "cell_type": "code",
   "execution_count": 31,
   "id": "531ed48f",
   "metadata": {},
   "outputs": [],
   "source": [
    "#submissionV5.to_csv('../submissions/submissionV5.csv', index = False)"
   ]
  },
  {
   "cell_type": "markdown",
   "id": "fd9b8f65",
   "metadata": {},
   "source": [
    "**Adding champion points to gold/xp/kills/dragons**"
   ]
  },
  {
   "cell_type": "code",
   "execution_count": 32,
   "id": "1d6f4554",
   "metadata": {},
   "outputs": [],
   "source": [
    "champMastery = pd.read_csv('../data/champion_mastery.csv')\n",
    "participantsTrain = pd.read_csv('../data/participants_train.csv')\n",
    "participantsTest = pd.read_csv('../data/participants_test.csv')"
   ]
  },
  {
   "cell_type": "code",
   "execution_count": 33,
   "id": "250b3fd9",
   "metadata": {},
   "outputs": [],
   "source": [
    "champPoints_df = (\n",
    "    participantsTrain[['matchId', 'teamId', 'summonerId', 'championId']]\n",
    "    .merge(\n",
    "        right = champMastery[['summonerId', 'championId', 'championPoints']],\n",
    "        how = 'left',\n",
    "        on = ['summonerId', 'championId']\n",
    "    )\n",
    "    .fillna(0)[['matchId', 'teamId', 'championPoints']]\n",
    "    .groupby(['matchId', 'teamId']).sum().reset_index()\n",
    ")\n",
    "\n",
    "blueChampPoints = (\n",
    "    champPoints_df.loc[champPoints_df['teamId'] == 100][['matchId', 'championPoints']]\n",
    "    .rename(columns = {'championPoints' : 'blueChampPoints'})\n",
    ")\n",
    "\n",
    "redChampPoints = (\n",
    "    champPoints_df.loc[champPoints_df['teamId'] == 200][['matchId', 'championPoints']]\n",
    "    .rename(columns = {'championPoints' : 'redChampPoints'})\n",
    ")\n",
    "\n",
    "X_train = X_train.merge(\n",
    "    right = blueChampPoints,\n",
    "    how = 'left',\n",
    "    on = 'matchId'\n",
    ").merge(\n",
    "    right = redChampPoints,\n",
    "    how = 'left',\n",
    "    on = 'matchId'\n",
    ")"
   ]
  },
  {
   "cell_type": "markdown",
   "id": "a65ebd98",
   "metadata": {},
   "source": [
    "**Trying normal/ridge regression using gold/xp/kills/dragons/champion points - submissionV7**"
   ]
  },
  {
   "cell_type": "code",
   "execution_count": 34,
   "id": "227b78ee",
   "metadata": {},
   "outputs": [],
   "source": [
    "champPoints = [\n",
    "    'blueGold', 'redGold', \n",
    "    'blueXP', 'redXP', \n",
    "    'blueKills', 'redKills', \n",
    "    'blueDragons', 'redDragons',\n",
    "    'blueChampPoints', 'redChampPoints'\n",
    "]"
   ]
  },
  {
   "cell_type": "code",
   "execution_count": 35,
   "id": "dca7ac5f",
   "metadata": {},
   "outputs": [
    {
     "data": {
      "text/plain": [
       "0.707375"
      ]
     },
     "execution_count": 35,
     "metadata": {},
     "output_type": "execute_result"
    }
   ],
   "source": [
    "logreg = LogisticRegression().fit(X_train[champPoints], y_train['winner'] == 100)\n",
    "\n",
    "accuracy_score(y_train['winner'] == 100, logreg.predict(X_train[champPoints]))"
   ]
  },
  {
   "cell_type": "code",
   "execution_count": 36,
   "id": "8ce89e0d",
   "metadata": {},
   "outputs": [
    {
     "data": {
      "text/plain": [
       "0.72125"
      ]
     },
     "execution_count": 36,
     "metadata": {},
     "output_type": "execute_result"
    }
   ],
   "source": [
    "pipe = Pipeline(\n",
    "    steps = [\n",
    "        ('pf', PolynomialFeatures(interaction_only = True, include_bias = False)),\n",
    "        ('vt', VarianceThreshold()),\n",
    "        ('scaler', StandardScaler()),\n",
    "        ('logistic', LogisticRegression(max_iter = 10000))\n",
    "    ]\n",
    ")\n",
    "\n",
    "pipe.fit(X_train[champPoints], y_train['winner'] == 100)\n",
    "\n",
    "accuracy_score(y_train['winner'] == 100, pipe.predict(X_train[champPoints]))"
   ]
  },
  {
   "cell_type": "code",
   "execution_count": 37,
   "id": "d3e04202",
   "metadata": {},
   "outputs": [],
   "source": [
    "champPoints_df = (\n",
    "    participantsTest[['matchId', 'teamId', 'summonerId', 'championId']]\n",
    "    .merge(\n",
    "        right = champMastery[['summonerId', 'championId', 'championPoints']],\n",
    "        how = 'left',\n",
    "        on = ['summonerId', 'championId']\n",
    "    )\n",
    "    .fillna(0)[['matchId', 'teamId', 'championPoints']]\n",
    "    .groupby(['matchId', 'teamId']).sum().reset_index()\n",
    ")\n",
    "\n",
    "blueChampPoints = (\n",
    "    champPoints_df.loc[champPoints_df['teamId'] == 100][['matchId', 'championPoints']]\n",
    "    .rename(columns = {'championPoints' : 'blueChampPoints'})\n",
    ")\n",
    "\n",
    "redChampPoints = (\n",
    "    champPoints_df.loc[champPoints_df['teamId'] == 200][['matchId', 'championPoints']]\n",
    "    .rename(columns = {'championPoints' : 'redChampPoints'})\n",
    ")\n",
    "\n",
    "X_test = X_test.merge(\n",
    "    right = blueChampPoints,\n",
    "    how = 'left',\n",
    "    on = 'matchId'\n",
    ").merge(\n",
    "    right = redChampPoints,\n",
    "    how = 'left',\n",
    "    on = 'matchId'\n",
    ")"
   ]
  },
  {
   "cell_type": "code",
   "execution_count": 38,
   "id": "dc84009e",
   "metadata": {},
   "outputs": [],
   "source": [
    "submissionV7 = X_test[['matchId']]\n",
    "submissionV7 = submissionV7.copy()\n",
    "submissionV7['win'] = pipe.predict(X_test[champPoints])\n",
    "submissionV7['winner'] = np.where(submissionV7['win'] == True, 100, 200)\n",
    "submissionV7 = submissionV7[['matchId', 'winner']]"
   ]
  },
  {
   "cell_type": "code",
   "execution_count": 39,
   "id": "0b1d3184",
   "metadata": {},
   "outputs": [],
   "source": [
    "#submissionV7.to_csv('../submissions/submissionV7.csv', index = False)"
   ]
  },
  {
   "cell_type": "markdown",
   "id": "adc7ce8a",
   "metadata": {},
   "source": [
    "**Adding summoner level to gold/xp/kills/dragons/champion points**"
   ]
  },
  {
   "cell_type": "code",
   "execution_count": 40,
   "id": "26e8c8a2",
   "metadata": {},
   "outputs": [],
   "source": [
    "sumLevel_df = (\n",
    "    participantsTrain[['matchId', 'teamId', 'summonerLevel']]\n",
    "    .groupby(['matchId', 'teamId']).sum().reset_index()\n",
    ")\n",
    "\n",
    "blueSumLevel = (\n",
    "    sumLevel_df.loc[sumLevel_df['teamId'] == 100][['matchId', 'summonerLevel']]\n",
    "    .rename(columns = {'summonerLevel' : 'blueSumLevel'})\n",
    ")\n",
    "\n",
    "redSumLevel = (\n",
    "    sumLevel_df.loc[sumLevel_df['teamId'] == 200][['matchId', 'summonerLevel']]\n",
    "    .rename(columns = {'summonerLevel' : 'redSumLevel'})\n",
    ")\n",
    "\n",
    "X_train = (\n",
    "    X_train.merge(\n",
    "        right = blueSumLevel,\n",
    "        how = 'left',\n",
    "        on = 'matchId'\n",
    "    ).merge(\n",
    "        right = redSumLevel,\n",
    "        how = 'left',\n",
    "        on = 'matchId'\n",
    "    )\n",
    ")"
   ]
  },
  {
   "cell_type": "markdown",
   "id": "86f11d51",
   "metadata": {},
   "source": [
    "**Trying normal/ridge regression using gold/xp/kills/dragons/champion points/summoner level**"
   ]
  },
  {
   "cell_type": "code",
   "execution_count": 41,
   "id": "dc6a14f2",
   "metadata": {},
   "outputs": [],
   "source": [
    "sumLevel = [\n",
    "    'blueGold', 'redGold', \n",
    "    'blueXP', 'redXP', \n",
    "    'blueKills', 'redKills', \n",
    "    'blueDragons', 'redDragons',\n",
    "    'blueChampPoints', 'redChampPoints',\n",
    "    'blueSumLevel', 'redSumLevel'\n",
    "]"
   ]
  },
  {
   "cell_type": "code",
   "execution_count": 42,
   "id": "bd7aa4a9",
   "metadata": {},
   "outputs": [
    {
     "data": {
      "text/plain": [
       "0.70775"
      ]
     },
     "execution_count": 42,
     "metadata": {},
     "output_type": "execute_result"
    }
   ],
   "source": [
    "logreg = LogisticRegression().fit(X_train[sumLevel], y_train['winner'] == 100)\n",
    "\n",
    "accuracy_score(y_train['winner'] == 100, logreg.predict(X_train[sumLevel]))"
   ]
  },
  {
   "cell_type": "code",
   "execution_count": 43,
   "id": "2da1969e",
   "metadata": {},
   "outputs": [
    {
     "data": {
      "text/plain": [
       "0.718"
      ]
     },
     "execution_count": 43,
     "metadata": {},
     "output_type": "execute_result"
    }
   ],
   "source": [
    "pipe = Pipeline(\n",
    "    steps = [\n",
    "        ('pf', PolynomialFeatures(interaction_only = True, include_bias = False)),\n",
    "        ('vt', VarianceThreshold()),\n",
    "        ('scaler', StandardScaler()),\n",
    "        ('logistic', LogisticRegression(max_iter = 10000))\n",
    "    ]\n",
    ")\n",
    "\n",
    "pipe.fit(X_train[sumLevel], y_train['winner'] == 100)\n",
    "\n",
    "accuracy_score(y_train['winner'] == 100, pipe.predict(X_train[sumLevel]))"
   ]
  },
  {
   "cell_type": "markdown",
   "id": "7db0600a",
   "metadata": {},
   "source": [
    "**The best model seems to be using ridge regression with gold/xp/kills/dragons/champion points as predictors. Now to see if adding interaction terms can help improve the model.**"
   ]
  },
  {
   "cell_type": "code",
   "execution_count": 44,
   "id": "320ca7db",
   "metadata": {},
   "outputs": [],
   "source": [
    "X_train['goldInteraction'] = X_train['blueGold'] * X_train['redGold']\n",
    "X_train['xpInteraction'] = X_train['blueXP'] * X_train['redXP']\n",
    "X_train['killsInteraction'] = X_train['blueKills'] * X_train['redKills']\n",
    "X_train['dragonsInteraction'] = X_train['blueDragons'] * X_train['redDragons']\n",
    "X_train['champPointsInteraction'] = X_train['blueChampPoints'] * X_train['redChampPoints']"
   ]
  },
  {
   "cell_type": "markdown",
   "id": "a18c7076",
   "metadata": {},
   "source": [
    "**Trying normal/ridge regression using gold/xp/kills/dragons/champion points plus interaction terms**"
   ]
  },
  {
   "cell_type": "code",
   "execution_count": 45,
   "id": "609107eb",
   "metadata": {},
   "outputs": [],
   "source": [
    "interactions = [\n",
    "    'blueGold', 'redGold', 'goldInteraction',\n",
    "    'blueXP', 'redXP', 'xpInteraction',\n",
    "    'blueKills', 'redKills', 'killsInteraction',\n",
    "    'blueDragons', 'redDragons', 'dragonsInteraction',\n",
    "    'blueChampPoints', 'redChampPoints', 'champPointsInteraction'\n",
    "]"
   ]
  },
  {
   "cell_type": "code",
   "execution_count": 46,
   "id": "ca8bdee0",
   "metadata": {},
   "outputs": [
    {
     "data": {
      "text/plain": [
       "0.491125"
      ]
     },
     "execution_count": 46,
     "metadata": {},
     "output_type": "execute_result"
    }
   ],
   "source": [
    "logreg = LogisticRegression().fit(X_train[interactions], y_train['winner'] == 100)\n",
    "\n",
    "accuracy_score(y_train['winner'] == 100, logreg.predict(X_train[interactions]))"
   ]
  },
  {
   "cell_type": "code",
   "execution_count": 47,
   "id": "17f4719b",
   "metadata": {},
   "outputs": [
    {
     "data": {
      "text/plain": [
       "0.721125"
      ]
     },
     "execution_count": 47,
     "metadata": {},
     "output_type": "execute_result"
    }
   ],
   "source": [
    "pipe = Pipeline(\n",
    "    steps = [\n",
    "        ('pf', PolynomialFeatures(interaction_only = True, include_bias = False)),\n",
    "        ('vt', VarianceThreshold()),\n",
    "        ('scaler', StandardScaler()),\n",
    "        ('logistic', LogisticRegression(max_iter = 10000))\n",
    "    ]\n",
    ")\n",
    "\n",
    "pipe.fit(X_train[interactions], y_train['winner'] == 100)\n",
    "\n",
    "accuracy_score(y_train['winner'] == 100, pipe.predict(X_train[interactions]))"
   ]
  },
  {
   "cell_type": "markdown",
   "id": "34c8c7f2",
   "metadata": {},
   "source": [
    "**Trying normal/ridge regression using gold/xp/kills/dragons plus interaction terms**"
   ]
  },
  {
   "cell_type": "code",
   "execution_count": 48,
   "id": "1557fd19",
   "metadata": {},
   "outputs": [],
   "source": [
    "interactionsV2 = [\n",
    "    'blueGold', 'redGold', 'goldInteraction',\n",
    "    'blueXP', 'redXP', 'xpInteraction',\n",
    "    'blueKills', 'redKills', 'killsInteraction',\n",
    "    'blueDragons', 'redDragons'\n",
    "]"
   ]
  },
  {
   "cell_type": "code",
   "execution_count": 49,
   "id": "f4d62bb7",
   "metadata": {},
   "outputs": [
    {
     "data": {
      "text/plain": [
       "0.508875"
      ]
     },
     "execution_count": 49,
     "metadata": {},
     "output_type": "execute_result"
    }
   ],
   "source": [
    "logreg = LogisticRegression().fit(X_train[interactionsV2], y_train['winner'] == 100)\n",
    "\n",
    "accuracy_score(y_train['winner'] == 100, logreg.predict(X_train[interactionsV2]))"
   ]
  },
  {
   "cell_type": "code",
   "execution_count": 50,
   "id": "579b067d",
   "metadata": {},
   "outputs": [
    {
     "data": {
      "text/plain": [
       "0.721625"
      ]
     },
     "execution_count": 50,
     "metadata": {},
     "output_type": "execute_result"
    }
   ],
   "source": [
    "pipe = Pipeline(\n",
    "    steps = [\n",
    "        ('pf', PolynomialFeatures(interaction_only = True, include_bias = False)),\n",
    "        ('vt', VarianceThreshold()),\n",
    "        ('scaler', StandardScaler()),\n",
    "        ('logistic', LogisticRegression(max_iter = 10000))\n",
    "    ]\n",
    ")\n",
    "\n",
    "pipe.fit(X_train[interactionsV2], y_train['winner'] == 100)\n",
    "\n",
    "accuracy_score(y_train['winner'] == 100, pipe.predict(X_train[interactionsV2]))"
   ]
  },
  {
   "cell_type": "markdown",
   "id": "93abb89c",
   "metadata": {},
   "source": [
    "**Seeing if a simpler model may be better using lassos regression**"
   ]
  },
  {
   "cell_type": "code",
   "execution_count": 51,
   "id": "d3c89c4c",
   "metadata": {},
   "outputs": [
    {
     "data": {
      "text/plain": [
       "Pipeline(steps=[('pf',\n",
       "                 PolynomialFeatures(include_bias=False, interaction_only=True)),\n",
       "                ('vt', VarianceThreshold()), ('scaler', StandardScaler()),\n",
       "                ('logistic',\n",
       "                 LogisticRegression(C=0.5, max_iter=10000, penalty='l1',\n",
       "                                    solver='saga'))])"
      ]
     },
     "execution_count": 51,
     "metadata": {},
     "output_type": "execute_result"
    }
   ],
   "source": [
    "pipe = Pipeline(\n",
    "    steps = [\n",
    "        ('pf', PolynomialFeatures(interaction_only = True, include_bias = False)),\n",
    "        ('vt', VarianceThreshold()),\n",
    "        ('scaler', StandardScaler()),\n",
    "        ('logistic', LogisticRegression(C = .5, penalty = 'l1', solver = 'saga', max_iter = 10000))\n",
    "    ]\n",
    ")\n",
    "\n",
    "pipe.fit(X_train[interactions], y_train['winner'] == 100)"
   ]
  },
  {
   "cell_type": "code",
   "execution_count": 52,
   "id": "ae248e69",
   "metadata": {},
   "outputs": [],
   "source": [
    "from sklearn.model_selection import GridSearchCV"
   ]
  },
  {
   "cell_type": "code",
   "execution_count": 53,
   "id": "9ecfd931",
   "metadata": {},
   "outputs": [],
   "source": [
    "# gs = GridSearchCV(estimator = pipe, \n",
    "#                  param_grid = {'logistic__C': [1, 0.5, 0.1, 0.05, 0.01]},\n",
    "#                  scoring = 'accuracy')"
   ]
  },
  {
   "cell_type": "code",
   "execution_count": 54,
   "id": "f22c2436",
   "metadata": {},
   "outputs": [],
   "source": [
    "#gs.fit(X_train[interactions], y_train['winner'] == 100)"
   ]
  },
  {
   "cell_type": "code",
   "execution_count": 55,
   "id": "608716fd",
   "metadata": {},
   "outputs": [],
   "source": [
    "#gs.best_params_\n",
    "\n",
    "#best parma is c = 0.5"
   ]
  },
  {
   "cell_type": "code",
   "execution_count": 56,
   "id": "ad900e5d",
   "metadata": {},
   "outputs": [
    {
     "data": {
      "text/plain": [
       "0.720625"
      ]
     },
     "execution_count": 56,
     "metadata": {},
     "output_type": "execute_result"
    }
   ],
   "source": [
    "accuracy_score(y_train['winner'] == 100, pipe.predict(X_train[interactions]))"
   ]
  },
  {
   "cell_type": "markdown",
   "id": "b7c9ff28",
   "metadata": {},
   "source": [
    "**Accounting for games that ended prior to the 10 minute mark using gold/xp/kills/dragons as predictors and ridge regression - submissionV8**"
   ]
  },
  {
   "cell_type": "code",
   "execution_count": 57,
   "id": "84cc456f",
   "metadata": {},
   "outputs": [],
   "source": [
    "df = []\n",
    "\n",
    "for matchId in range(0, 8000):\n",
    "    f = open('../data/train_timelines/train_timelines/timeline_{matchIds}.json'.format(matchIds = matchId))\n",
    "    \n",
    "    data = json.load(f)\n",
    "    if len(data['frames']) != 11:\n",
    "        df.append({\n",
    "            'matchId': matchId,\n",
    "            'winner' : data['frames'][-1]['events'][-1]['winningTeam']\n",
    "                  })\n",
    "    else:\n",
    "        pass\n",
    "    \n",
    "underTen_df = pd.DataFrame(df)"
   ]
  },
  {
   "cell_type": "code",
   "execution_count": 58,
   "id": "9eaa3e53",
   "metadata": {},
   "outputs": [],
   "source": [
    "underTen = underTen_df['matchId']\n",
    "\n",
    "X_trainOverTen = X_train.loc[~X_train['matchId'].isin(underTen)]\n",
    "\n",
    "y_trainOverTen = y_train.loc[~y_train['matchId'].isin(underTen)]"
   ]
  },
  {
   "cell_type": "code",
   "execution_count": 59,
   "id": "567e15f5",
   "metadata": {},
   "outputs": [
    {
     "data": {
      "text/plain": [
       "Pipeline(steps=[('pf',\n",
       "                 PolynomialFeatures(include_bias=False, interaction_only=True)),\n",
       "                ('vt', VarianceThreshold()), ('scaler', StandardScaler()),\n",
       "                ('logistic', LogisticRegression(max_iter=10000))])"
      ]
     },
     "execution_count": 59,
     "metadata": {},
     "output_type": "execute_result"
    }
   ],
   "source": [
    "pipe = Pipeline(\n",
    "    steps = [\n",
    "        ('pf', PolynomialFeatures(interaction_only = True, include_bias = False)),\n",
    "        ('vt', VarianceThreshold()),\n",
    "        ('scaler', StandardScaler()),\n",
    "        ('logistic', LogisticRegression(max_iter = 10000))\n",
    "    ]\n",
    ")\n",
    "\n",
    "pipe.fit(X_trainOverTen[dragons], y_trainOverTen['winner'] == 100)"
   ]
  },
  {
   "cell_type": "code",
   "execution_count": 60,
   "id": "108d5481",
   "metadata": {},
   "outputs": [],
   "source": [
    "predicitions = X_trainOverTen[['matchId']].copy()\n",
    "predicitions['win'] = pipe.predict(X_trainOverTen[dragons])\n",
    "predicitions['winner'] = np.where(predicitions['win'] == True, 100, 200)\n",
    "predicitions = predicitions[['matchId', 'winner']]"
   ]
  },
  {
   "cell_type": "code",
   "execution_count": 61,
   "id": "acb59100",
   "metadata": {
    "scrolled": true
   },
   "outputs": [
    {
     "data": {
      "text/plain": [
       "0.722125"
      ]
     },
     "execution_count": 61,
     "metadata": {},
     "output_type": "execute_result"
    }
   ],
   "source": [
    "accuracy_score(\n",
    "    y_train['winner'] == 100, \n",
    "    pd.concat([predicitions, underTen_df]).sort_values(by = 'matchId')['winner'] == 100\n",
    ")"
   ]
  },
  {
   "cell_type": "code",
   "execution_count": 62,
   "id": "f8e24258",
   "metadata": {
    "scrolled": false
   },
   "outputs": [],
   "source": [
    "df = []\n",
    "\n",
    "for matchId in range(8000, 10000):\n",
    "    f = open('../data/test_timelines/test_timelines/timeline_{matchIds}.json'.format(matchIds = matchId))\n",
    "    \n",
    "    data = json.load(f)\n",
    "    if len(data['frames']) != 11:\n",
    "        df.append({\n",
    "            'matchId': matchId,\n",
    "            'winner' : data['frames'][-1]['events'][-1]['winningTeam']\n",
    "                  })\n",
    "    else:\n",
    "        pass\n",
    "    \n",
    "underTen_df = pd.DataFrame(df)"
   ]
  },
  {
   "cell_type": "code",
   "execution_count": 63,
   "id": "f2f0ed80",
   "metadata": {},
   "outputs": [],
   "source": [
    "X_testOverTen = X_test.loc[~X_test['matchId'].isin(underTen_df['matchId'])]"
   ]
  },
  {
   "cell_type": "code",
   "execution_count": 64,
   "id": "10c2a2f4",
   "metadata": {},
   "outputs": [],
   "source": [
    "predicitions = X_testOverTen[['matchId']].copy()\n",
    "predicitions['win'] = pipe.predict(X_testOverTen[dragons])\n",
    "predicitions['winner'] = np.where(predicitions['win'] == True, 100, 200)\n",
    "predicitions = predicitions[['matchId', 'winner']]"
   ]
  },
  {
   "cell_type": "code",
   "execution_count": 65,
   "id": "7141fb7e",
   "metadata": {},
   "outputs": [],
   "source": [
    "submissionV8 = pd.concat([predicitions, underTen_df]).sort_values(by = 'matchId')"
   ]
  },
  {
   "cell_type": "code",
   "execution_count": 66,
   "id": "9e246655",
   "metadata": {},
   "outputs": [],
   "source": [
    "#submissionV8.to_csv('../submissions/submissionV8.csv', index = False)"
   ]
  },
  {
   "cell_type": "markdown",
   "id": "d14f7a30",
   "metadata": {},
   "source": [
    "**submissionV8 seemed to be the best model. Now seeing if spiliting it out by lane has any impact on the model.**"
   ]
  },
  {
   "cell_type": "markdown",
   "id": "047d0ebe",
   "metadata": {},
   "source": [
    "# Random Forest"
   ]
  },
  {
   "cell_type": "code",
   "execution_count": 74,
   "id": "ad24473b",
   "metadata": {},
   "outputs": [],
   "source": [
    "df = []\n",
    "\n",
    "for matchId in range(0, 8000):\n",
    "    f = open('../data/train_timelines/train_timelines/timeline_{matchIds}.json'.format(matchIds = matchId))\n",
    "    \n",
    "    data = json.load(f)\n",
    "    if len(data['frames']) != 11:\n",
    "        df.append({\n",
    "            'matchId': matchId,\n",
    "            'winner' : data['frames'][-1]['events'][-1]['winningTeam']\n",
    "                  })\n",
    "    else:\n",
    "        pass\n",
    "    \n",
    "underTen_df = pd.DataFrame(df)"
   ]
  },
  {
   "cell_type": "code",
   "execution_count": 67,
   "id": "bf03f97f",
   "metadata": {},
   "outputs": [],
   "source": [
    "from sklearn.ensemble import RandomForestClassifier"
   ]
  },
  {
   "cell_type": "code",
   "execution_count": 76,
   "id": "c2fbc570",
   "metadata": {},
   "outputs": [],
   "source": [
    "clf = RandomForestClassifier(max_depth=4, random_state=0)"
   ]
  },
  {
   "cell_type": "code",
   "execution_count": 77,
   "id": "f816f962",
   "metadata": {},
   "outputs": [
    {
     "data": {
      "text/plain": [
       "RandomForestClassifier(max_depth=4, random_state=0)"
      ]
     },
     "execution_count": 77,
     "metadata": {},
     "output_type": "execute_result"
    }
   ],
   "source": [
    "clf.fit(X_trainOverTen[dragons], y_trainOverTen['winner'] == 100)"
   ]
  },
  {
   "cell_type": "code",
   "execution_count": 78,
   "id": "d7c029e8",
   "metadata": {},
   "outputs": [],
   "source": [
    "pred_clf = X_trainOverTen[['matchId']].copy()\n",
    "pred_clf['win'] = clf.predict(X_trainOverTen[dragons])\n",
    "pred_clf['winner'] = np.where(pred_clf['win'] == True, 100, 200)\n",
    "pred_clf = pred_clf[['matchId', 'winner']]"
   ]
  },
  {
   "cell_type": "code",
   "execution_count": 79,
   "id": "662900c8",
   "metadata": {},
   "outputs": [
    {
     "data": {
      "text/plain": [
       "0.7265"
      ]
     },
     "execution_count": 79,
     "metadata": {},
     "output_type": "execute_result"
    }
   ],
   "source": [
    "accuracy_score(\n",
    "    y_train['winner'] == 100, \n",
    "    pd.concat([pred_clf, underTen_df]).sort_values(by = 'matchId')['winner'] == 100\n",
    ")"
   ]
  },
  {
   "cell_type": "markdown",
   "id": "31d396e7",
   "metadata": {},
   "source": [
    "### Random Forest Submission"
   ]
  },
  {
   "cell_type": "code",
   "execution_count": 80,
   "id": "2ee09110",
   "metadata": {},
   "outputs": [],
   "source": [
    "df = []\n",
    "\n",
    "for matchId in range(8000, 10000):\n",
    "    f = open('../data/test_timelines/test_timelines/timeline_{matchIds}.json'.format(matchIds = matchId))\n",
    "    \n",
    "    data = json.load(f)\n",
    "    if len(data['frames']) != 11:\n",
    "        df.append({\n",
    "            'matchId': matchId,\n",
    "            'winner' : data['frames'][-1]['events'][-1]['winningTeam']\n",
    "                  })\n",
    "    else:\n",
    "        pass\n",
    "    \n",
    "underTen_df = pd.DataFrame(df)\n",
    "\n",
    "X_testOverTen = X_test.loc[~X_test['matchId'].isin(underTen_df['matchId'])]\n",
    "\n",
    "predicitions = X_testOverTen[['matchId']].copy()\n",
    "predicitions['win'] = clf.predict(X_testOverTen[dragons])\n",
    "predicitions['winner'] = np.where(predicitions['win'] == True, 100, 200)\n",
    "predicitions = predicitions[['matchId', 'winner']]\n",
    "\n",
    "submission_v1 = pd.concat([predicitions, underTen_df]).sort_values(by = 'matchId')"
   ]
  },
  {
   "cell_type": "code",
   "execution_count": 82,
   "id": "ddb3a9b1",
   "metadata": {},
   "outputs": [],
   "source": [
    "#submission_v1.to_csv('../submissions/submission_v1.csv', index = False)"
   ]
  },
  {
   "cell_type": "markdown",
   "id": "810e7474",
   "metadata": {},
   "source": [
    "### random forest model overtrained, need to tweak other hyperparameters"
   ]
  },
  {
   "cell_type": "markdown",
   "id": "304a4104",
   "metadata": {},
   "source": [
    "# Neutral Network"
   ]
  },
  {
   "cell_type": "code",
   "execution_count": 83,
   "id": "8128dc7f",
   "metadata": {},
   "outputs": [],
   "source": [
    "from sklearn.neural_network import MLPClassifier"
   ]
  },
  {
   "cell_type": "code",
   "execution_count": 88,
   "id": "f8d741e1",
   "metadata": {},
   "outputs": [],
   "source": [
    "df = []\n",
    "\n",
    "for matchId in range(0, 8000):\n",
    "    f = open('../data/train_timelines/train_timelines/timeline_{matchIds}.json'.format(matchIds = matchId))\n",
    "    \n",
    "    data = json.load(f)\n",
    "    if len(data['frames']) != 11:\n",
    "        df.append({\n",
    "            'matchId': matchId,\n",
    "            'winner' : data['frames'][-1]['events'][-1]['winningTeam']\n",
    "                  })\n",
    "    else:\n",
    "        pass\n",
    "    \n",
    "underTen_df = pd.DataFrame(df)"
   ]
  },
  {
   "cell_type": "code",
   "execution_count": 106,
   "id": "f6591da6",
   "metadata": {},
   "outputs": [],
   "source": [
    "# Create a neural network classifier with one hidden layer\n",
    "clf_1 = MLPClassifier(hidden_layer_sizes=(100,), activation='relu', solver='adam')\n",
    "\n",
    "# Train the classifier on some data X and labels y\n",
    "clf_1.fit(X_trainOverTen[dragons], y_trainOverTen['winner'] == 100)\n",
    "\n",
    "# Use the classifier to predict the labels of some new data X_test\n",
    "#y_pred = clf.predict(X_test)\n",
    "pred_clf_1 = X_trainOverTen[['matchId']].copy()\n",
    "pred_clf_1['win'] = clf_1.predict(X_trainOverTen[dragons])\n",
    "pred_clf_1['winner'] = np.where(pred_clf_1['win'] == True, 100, 200)\n",
    "pred_clf_1 = pred_clf_1[['matchId', 'winner']]"
   ]
  },
  {
   "cell_type": "code",
   "execution_count": 107,
   "id": "a54e8f0f",
   "metadata": {},
   "outputs": [
    {
     "data": {
      "text/plain": [
       "0.708"
      ]
     },
     "execution_count": 107,
     "metadata": {},
     "output_type": "execute_result"
    }
   ],
   "source": [
    "accuracy_score(\n",
    "    y_train['winner'] == 100, \n",
    "    pd.concat([pred_clf_1, underTen_df]).sort_values(by = 'matchId')['winner'] == 100\n",
    ")"
   ]
  },
  {
   "cell_type": "markdown",
   "id": "a83d3e25",
   "metadata": {},
   "source": [
    "# Gradient Boosting"
   ]
  },
  {
   "cell_type": "code",
   "execution_count": 130,
   "id": "bb658180",
   "metadata": {},
   "outputs": [],
   "source": [
    "from sklearn.ensemble import GradientBoostingClassifier"
   ]
  },
  {
   "cell_type": "code",
   "execution_count": 131,
   "id": "ffea71b2",
   "metadata": {},
   "outputs": [],
   "source": [
    "df = []\n",
    "\n",
    "for matchId in range(0, 8000):\n",
    "    f = open('../data/train_timelines/train_timelines/timeline_{matchIds}.json'.format(matchIds = matchId))\n",
    "    \n",
    "    data = json.load(f)\n",
    "    if len(data['frames']) != 11:\n",
    "        df.append({\n",
    "            'matchId': matchId,\n",
    "            'winner' : data['frames'][-1]['events'][-1]['winningTeam']\n",
    "                  })\n",
    "    else:\n",
    "        pass\n",
    "    \n",
    "underTen_df = pd.DataFrame(df)"
   ]
  },
  {
   "cell_type": "code",
   "execution_count": 132,
   "id": "84ab2fa3",
   "metadata": {},
   "outputs": [],
   "source": [
    "# Create a Gradient Boosting classifier\n",
    "clf_2 = GradientBoostingClassifier(n_estimators=100, learning_rate=1.0, max_depth=1, random_state=0)\n",
    "\n",
    "# Train the classifier on some data X and labels y\n",
    "clf_2.fit(X_trainOverTen[dragons], y_trainOverTen['winner'] == 100)\n",
    "\n",
    "# Use the classifier to predict the labels of some new data X_test\n",
    "#y_pred = clf.predict(X_test)\n",
    "pred_clf_2 = X_trainOverTen[['matchId']].copy()\n",
    "pred_clf_2['win'] = clf_2.predict(X_trainOverTen[dragons])\n",
    "pred_clf_2['winner'] = np.where(pred_clf_2['win'] == True, 100, 200)\n",
    "pred_clf_2 = pred_clf_2[['matchId', 'winner']]"
   ]
  },
  {
   "cell_type": "code",
   "execution_count": 133,
   "id": "6d9fbd4d",
   "metadata": {},
   "outputs": [
    {
     "data": {
      "text/plain": [
       "0.728125"
      ]
     },
     "execution_count": 133,
     "metadata": {},
     "output_type": "execute_result"
    }
   ],
   "source": [
    "accuracy_score(\n",
    "    y_train['winner'] == 100, \n",
    "    pd.concat([pred_clf_2, underTen_df]).sort_values(by = 'matchId')['winner'] == 100\n",
    ")"
   ]
  },
  {
   "cell_type": "markdown",
   "id": "129b9796",
   "metadata": {},
   "source": [
    "### Gradient Boosting Submission"
   ]
  },
  {
   "cell_type": "code",
   "execution_count": 134,
   "id": "8b88b50d",
   "metadata": {},
   "outputs": [],
   "source": [
    "df = []\n",
    "\n",
    "for matchId in range(8000, 10000):\n",
    "    f = open('../data/test_timelines/test_timelines/timeline_{matchIds}.json'.format(matchIds = matchId))\n",
    "    \n",
    "    data = json.load(f)\n",
    "    if len(data['frames']) != 11:\n",
    "        df.append({\n",
    "            'matchId': matchId,\n",
    "            'winner' : data['frames'][-1]['events'][-1]['winningTeam']\n",
    "                  })\n",
    "    else:\n",
    "        pass\n",
    "    \n",
    "underTenTest_df = pd.DataFrame(df)"
   ]
  },
  {
   "cell_type": "code",
   "execution_count": 135,
   "id": "e6c8891a",
   "metadata": {},
   "outputs": [],
   "source": [
    "X_testOverTen = X_test.loc[~X_test['matchId'].isin(underTenTest_df['matchId'])]"
   ]
  },
  {
   "cell_type": "code",
   "execution_count": 136,
   "id": "af55b93f",
   "metadata": {},
   "outputs": [],
   "source": [
    "predicitions = X_testOverTen[['matchId']].copy()\n",
    "predicitions['win'] = clf_2.predict(X_testOverTen[dragons])\n",
    "predicitions['winner'] = np.where(predicitions['win'] == True, 100, 200)\n",
    "predicitions = predicitions[['matchId', 'winner']]"
   ]
  },
  {
   "cell_type": "code",
   "execution_count": 137,
   "id": "5bfa264f",
   "metadata": {},
   "outputs": [],
   "source": [
    "submissionV8 = pd.concat([predicitions, underTenTest_df]).sort_values(by = 'matchId')"
   ]
  },
  {
   "cell_type": "code",
   "execution_count": 139,
   "id": "a3883f5a",
   "metadata": {},
   "outputs": [
    {
     "data": {
      "text/plain": [
       "(2000, 2)"
      ]
     },
     "execution_count": 139,
     "metadata": {},
     "output_type": "execute_result"
    }
   ],
   "source": [
    "submissionV8.shape"
   ]
  },
  {
   "cell_type": "code",
   "execution_count": 140,
   "id": "cc1bc2e4",
   "metadata": {},
   "outputs": [],
   "source": [
    "#submissionV8.to_csv('../submissions/submissionV8.csv', index = False)"
   ]
  },
  {
   "cell_type": "markdown",
   "id": "35fbfc3f",
   "metadata": {},
   "source": [
    "# K-Nearest Neighbors"
   ]
  },
  {
   "cell_type": "code",
   "execution_count": 145,
   "id": "76ada775",
   "metadata": {},
   "outputs": [],
   "source": [
    "from sklearn.neighbors import KNeighborsClassifier"
   ]
  },
  {
   "cell_type": "code",
   "execution_count": 146,
   "id": "248f663f",
   "metadata": {},
   "outputs": [],
   "source": [
    "df = []\n",
    "\n",
    "for matchId in range(0, 8000):\n",
    "    f = open('../data/train_timelines/train_timelines/timeline_{matchIds}.json'.format(matchIds = matchId))\n",
    "    \n",
    "    data = json.load(f)\n",
    "    if len(data['frames']) != 11:\n",
    "        df.append({\n",
    "            'matchId': matchId,\n",
    "            'winner' : data['frames'][-1]['events'][-1]['winningTeam']\n",
    "                  })\n",
    "    else:\n",
    "        pass\n",
    "    \n",
    "underTen_df = pd.DataFrame(df)"
   ]
  },
  {
   "cell_type": "code",
   "execution_count": 148,
   "id": "0682324a",
   "metadata": {},
   "outputs": [],
   "source": [
    "# Create a K-nearest neighbor classifier\n",
    "clf_3 = KNeighborsClassifier(n_neighbors=5)\n",
    "\n",
    "# Train the classifier on some data X and labels y\n",
    "clf_3.fit(X_trainOverTen[dragons], y_trainOverTen['winner'] == 100)\n",
    "\n",
    "# Use the classifier to predict the labels of some new data X_test\n",
    "#y_pred = clf.predict(X_test)\n",
    "pred_clf_3 = X_trainOverTen[['matchId']].copy()\n",
    "pred_clf_3['win'] = clf_3.predict(X_trainOverTen[dragons])\n",
    "pred_clf_3['winner'] = np.where(pred_clf_3['win'] == True, 100, 200)\n",
    "pred_clf_3 = pred_clf_3[['matchId', 'winner']]"
   ]
  },
  {
   "cell_type": "code",
   "execution_count": 149,
   "id": "c66cd195",
   "metadata": {},
   "outputs": [
    {
     "data": {
      "text/plain": [
       "0.77275"
      ]
     },
     "execution_count": 149,
     "metadata": {},
     "output_type": "execute_result"
    }
   ],
   "source": [
    "accuracy_score(\n",
    "    y_train['winner'] == 100, \n",
    "    pd.concat([pred_clf_3, underTen_df]).sort_values(by = 'matchId')['winner'] == 100\n",
    ")"
   ]
  },
  {
   "cell_type": "markdown",
   "id": "d80ef46c",
   "metadata": {},
   "source": [
    "### KNN submission"
   ]
  },
  {
   "cell_type": "code",
   "execution_count": 150,
   "id": "99c00fc2",
   "metadata": {},
   "outputs": [],
   "source": [
    "df = []\n",
    "\n",
    "for matchId in range(8000, 10000):\n",
    "    f = open('../data/test_timelines/test_timelines/timeline_{matchIds}.json'.format(matchIds = matchId))\n",
    "    \n",
    "    data = json.load(f)\n",
    "    if len(data['frames']) != 11:\n",
    "        df.append({\n",
    "            'matchId': matchId,\n",
    "            'winner' : data['frames'][-1]['events'][-1]['winningTeam']\n",
    "                  })\n",
    "    else:\n",
    "        pass\n",
    "    \n",
    "underTenTest_df = pd.DataFrame(df)"
   ]
  },
  {
   "cell_type": "code",
   "execution_count": 151,
   "id": "db3d7f37",
   "metadata": {},
   "outputs": [],
   "source": [
    "X_testOverTen = X_test.loc[~X_test['matchId'].isin(underTenTest_df['matchId'])]"
   ]
  },
  {
   "cell_type": "code",
   "execution_count": 152,
   "id": "1e093a61",
   "metadata": {},
   "outputs": [],
   "source": [
    "predicitions = X_testOverTen[['matchId']].copy()\n",
    "predicitions['win'] = clf_3.predict(X_testOverTen[dragons])\n",
    "predicitions['winner'] = np.where(predicitions['win'] == True, 100, 200)\n",
    "predicitions = predicitions[['matchId', 'winner']]"
   ]
  },
  {
   "cell_type": "code",
   "execution_count": 153,
   "id": "498f5f1f",
   "metadata": {},
   "outputs": [],
   "source": [
    "submissionV9 = pd.concat([predicitions, underTenTest_df]).sort_values(by = 'matchId')"
   ]
  },
  {
   "cell_type": "code",
   "execution_count": 154,
   "id": "55f29912",
   "metadata": {},
   "outputs": [
    {
     "data": {
      "text/plain": [
       "(2000, 2)"
      ]
     },
     "execution_count": 154,
     "metadata": {},
     "output_type": "execute_result"
    }
   ],
   "source": [
    "submissionV9.shape"
   ]
  },
  {
   "cell_type": "code",
   "execution_count": 155,
   "id": "ddafb577",
   "metadata": {},
   "outputs": [],
   "source": [
    "#submissionV9.to_csv('../submissions/submissionV9.csv', index = False)"
   ]
  },
  {
   "cell_type": "markdown",
   "id": "a8ce99b2",
   "metadata": {},
   "source": [
    "# Web Scap from Metasrc"
   ]
  },
  {
   "cell_type": "code",
   "execution_count": 166,
   "id": "c91d6838",
   "metadata": {},
   "outputs": [],
   "source": [
    "import requests\n",
    "from bs4 import BeautifulSoup\n",
    "import pandas as pd\n",
    "\n",
    "url_base = 'https://www.metasrc.com/5v5/na/{}/stats?ranks=diamond'\n",
    "\n",
    "patches = ['13.1', '13.2', '13.4', '13.5']\n",
    "dfs = []\n",
    "\n",
    "for patch in patches:\n",
    "    url = url_base.format(patch)\n",
    "    response = requests.get(url)\n",
    "\n",
    "    soup = BeautifulSoup(response.text, 'html.parser')\n",
    "\n",
    "    table = soup.find('table', {'class': 'stats-table'}) # finds the table element in the HTML code with class name 'stats-table'\n",
    "    if table:\n",
    "        headers = [] # creates an empty list called headers to store the column headers of the stats table\n",
    "        for th in table.find_all('th'): # loops through all the <th> elements aka column headers in the table and extracts their text using the text attribute\n",
    "            headers.append(th.text.strip()) # appends the text of each column header to the headers list\n",
    "\n",
    "        rows = []\n",
    "        for tr in table.find_all('tr'): # loops through all the <tr> elements aka table rows in the table and extracts their <td> elements aka table cells\n",
    "            row = []\n",
    "            for td in tr.find_all('td'):\n",
    "                row.append(td.text.strip()) # appends the text of each cell to the `row list`\n",
    "            if row:\n",
    "                rows.append(row) \n",
    "                \n",
    "        df = pd.DataFrame(rows, columns=headers)\n",
    "        df['patch'] = patch\n",
    "        dfs.append(df)\n",
    "    else:\n",
    "        print('Table not found for patch {}'.format(patch))\n",
    "\n",
    "metasrc = pd.concat(dfs)"
   ]
  },
  {
   "cell_type": "code",
   "execution_count": 167,
   "id": "93ca3b3b",
   "metadata": {},
   "outputs": [
    {
     "data": {
      "text/html": [
       "<div>\n",
       "<style scoped>\n",
       "    .dataframe tbody tr th:only-of-type {\n",
       "        vertical-align: middle;\n",
       "    }\n",
       "\n",
       "    .dataframe tbody tr th {\n",
       "        vertical-align: top;\n",
       "    }\n",
       "\n",
       "    .dataframe thead th {\n",
       "        text-align: right;\n",
       "    }\n",
       "</style>\n",
       "<table border=\"1\" class=\"dataframe\">\n",
       "  <thead>\n",
       "    <tr style=\"text-align: right;\">\n",
       "      <th></th>\n",
       "      <th>Name</th>\n",
       "      <th>Role</th>\n",
       "      <th>Tier</th>\n",
       "      <th>Score</th>\n",
       "      <th>Trend</th>\n",
       "      <th>Win %</th>\n",
       "      <th>Role %</th>\n",
       "      <th>Pick %</th>\n",
       "      <th>Ban %</th>\n",
       "      <th>KDA</th>\n",
       "      <th>patch</th>\n",
       "    </tr>\n",
       "  </thead>\n",
       "  <tbody>\n",
       "    <tr>\n",
       "      <th>0</th>\n",
       "      <td>AatroxAatrox</td>\n",
       "      <td>TOP</td>\n",
       "      <td>Strong / S</td>\n",
       "      <td>57.89</td>\n",
       "      <td>-28.16</td>\n",
       "      <td>49.40%</td>\n",
       "      <td>91.11%</td>\n",
       "      <td>6.69%</td>\n",
       "      <td>10.95%</td>\n",
       "      <td>1.90</td>\n",
       "      <td>13.1</td>\n",
       "    </tr>\n",
       "    <tr>\n",
       "      <th>1</th>\n",
       "      <td>AhriAhri</td>\n",
       "      <td>MID</td>\n",
       "      <td>Strong / S</td>\n",
       "      <td>54.77</td>\n",
       "      <td>+1.21</td>\n",
       "      <td>50.23%</td>\n",
       "      <td>94.34%</td>\n",
       "      <td>5.19%</td>\n",
       "      <td>1.06%</td>\n",
       "      <td>2.88</td>\n",
       "      <td>13.1</td>\n",
       "    </tr>\n",
       "    <tr>\n",
       "      <th>2</th>\n",
       "      <td>AkaliAkali</td>\n",
       "      <td>MID</td>\n",
       "      <td>Good / A</td>\n",
       "      <td>54.64</td>\n",
       "      <td>-3.70</td>\n",
       "      <td>47.22%</td>\n",
       "      <td>79.69%</td>\n",
       "      <td>6.64%</td>\n",
       "      <td>7.10%</td>\n",
       "      <td>2.49</td>\n",
       "      <td>13.1</td>\n",
       "    </tr>\n",
       "    <tr>\n",
       "      <th>3</th>\n",
       "      <td>AkaliAkali</td>\n",
       "      <td>TOP</td>\n",
       "      <td>Weak / C</td>\n",
       "      <td>40.62</td>\n",
       "      <td>+3.48</td>\n",
       "      <td>45.87%</td>\n",
       "      <td>20.20%</td>\n",
       "      <td>1.87%</td>\n",
       "      <td>7.10%</td>\n",
       "      <td>2.07</td>\n",
       "      <td>13.1</td>\n",
       "    </tr>\n",
       "    <tr>\n",
       "      <th>4</th>\n",
       "      <td>AkshanAkshan</td>\n",
       "      <td>MID</td>\n",
       "      <td>Good / A</td>\n",
       "      <td>50.65</td>\n",
       "      <td>-0.02</td>\n",
       "      <td>52.45%</td>\n",
       "      <td>70.39%</td>\n",
       "      <td>3.00%</td>\n",
       "      <td>4.05%</td>\n",
       "      <td>2.35</td>\n",
       "      <td>13.1</td>\n",
       "    </tr>\n",
       "  </tbody>\n",
       "</table>\n",
       "</div>"
      ],
      "text/plain": [
       "           Name Role        Tier  Score   Trend   Win %  Role % Pick %  \\\n",
       "0  AatroxAatrox  TOP  Strong / S  57.89  -28.16  49.40%  91.11%  6.69%   \n",
       "1      AhriAhri  MID  Strong / S  54.77   +1.21  50.23%  94.34%  5.19%   \n",
       "2    AkaliAkali  MID    Good / A  54.64   -3.70  47.22%  79.69%  6.64%   \n",
       "3    AkaliAkali  TOP    Weak / C  40.62   +3.48  45.87%  20.20%  1.87%   \n",
       "4  AkshanAkshan  MID    Good / A  50.65   -0.02  52.45%  70.39%  3.00%   \n",
       "\n",
       "    Ban %   KDA patch  \n",
       "0  10.95%  1.90  13.1  \n",
       "1   1.06%  2.88  13.1  \n",
       "2   7.10%  2.49  13.1  \n",
       "3   7.10%  2.07  13.1  \n",
       "4   4.05%  2.35  13.1  "
      ]
     },
     "execution_count": 167,
     "metadata": {},
     "output_type": "execute_result"
    }
   ],
   "source": [
    "metasrc.head()"
   ]
  },
  {
   "cell_type": "code",
   "execution_count": 168,
   "id": "a9fbd8dc",
   "metadata": {},
   "outputs": [],
   "source": [
    "#metasrc.to_csv('../data/metasrc.csv', index = False)"
   ]
  },
  {
   "cell_type": "code",
   "execution_count": 164,
   "id": "00b771d7",
   "metadata": {},
   "outputs": [
    {
     "name": "stdout",
     "output_type": "stream",
     "text": [
      "['stats-table', '_fizomx']\n"
     ]
    }
   ],
   "source": [
    "import requests\n",
    "from bs4 import BeautifulSoup\n",
    "\n",
    "url = 'https://www.metasrc.com/5v5/na/12.23/stats?ranks=diamond'\n",
    "response = requests.get(url)\n",
    "\n",
    "soup = BeautifulSoup(response.text, 'html.parser')\n",
    "\n",
    "tables = soup.find_all('table')\n",
    "for table in tables:\n",
    "    print(table.get('class'))\n"
   ]
  },
  {
   "cell_type": "code",
   "execution_count": null,
   "id": "b24cc37a",
   "metadata": {},
   "outputs": [],
   "source": []
  }
 ],
 "metadata": {
  "kernelspec": {
   "display_name": "Python 3 (ipykernel)",
   "language": "python",
   "name": "python3"
  },
  "language_info": {
   "codemirror_mode": {
    "name": "ipython",
    "version": 3
   },
   "file_extension": ".py",
   "mimetype": "text/x-python",
   "name": "python",
   "nbconvert_exporter": "python",
   "pygments_lexer": "ipython3",
   "version": "3.9.7"
  }
 },
 "nbformat": 4,
 "nbformat_minor": 5
}
