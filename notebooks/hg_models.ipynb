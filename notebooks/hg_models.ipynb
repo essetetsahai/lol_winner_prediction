{
 "cells": [
  {
   "cell_type": "code",
   "execution_count": 83,
   "id": "7499ddb6",
   "metadata": {},
   "outputs": [],
   "source": [
    "import pandas as pd\n",
    "import numpy as np\n",
    "import json\n",
    "from sklearn.linear_model import LogisticRegression\n",
    "from sklearn.metrics import accuracy_score"
   ]
  },
  {
   "cell_type": "code",
   "execution_count": 84,
   "id": "cdb94036",
   "metadata": {},
   "outputs": [],
   "source": [
    "f = open('../data/train_timelines/train_timelines/timeline_{matchIds}.json'.format(matchIds = 0))\n",
    "\n",
    "data = json.load(f)"
   ]
  },
  {
   "cell_type": "markdown",
   "id": "f7c917e4",
   "metadata": {},
   "source": [
    "**Looking into gold and XP**"
   ]
  },
  {
   "cell_type": "code",
   "execution_count": 85,
   "id": "6bd9cc95",
   "metadata": {},
   "outputs": [],
   "source": [
    "df = []"
   ]
  },
  {
   "cell_type": "code",
   "execution_count": 86,
   "id": "60958823",
   "metadata": {},
   "outputs": [],
   "source": [
    "for matchId in range(0, 8000):\n",
    "    f = open('../data/train_timelines/train_timelines/timeline_{matchIds}.json'.format(matchIds = matchId))\n",
    "    \n",
    "    data = json.load(f)\n",
    "    df.append({\n",
    "        'matchId' : matchId,\n",
    "        'blueGold' : (\n",
    "            data['frames'][-1]['participantFrames']['1']['totalGold'] +\n",
    "            data['frames'][-1]['participantFrames']['2']['totalGold'] +\n",
    "            data['frames'][-1]['participantFrames']['3']['totalGold'] +\n",
    "            data['frames'][-1]['participantFrames']['4']['totalGold'] +\n",
    "            data['frames'][-1]['participantFrames']['5']['totalGold']\n",
    "        ),\n",
    "        'blueXP' : (\n",
    "            data['frames'][-1]['participantFrames']['1']['xp'] +\n",
    "            data['frames'][-1]['participantFrames']['2']['xp'] +\n",
    "            data['frames'][-1]['participantFrames']['3']['xp'] +\n",
    "            data['frames'][-1]['participantFrames']['4']['xp'] +\n",
    "            data['frames'][-1]['participantFrames']['5']['xp']\n",
    "        ),\n",
    "        'redGold' : (\n",
    "            data['frames'][-1]['participantFrames']['6']['totalGold'] + \n",
    "            data['frames'][-1]['participantFrames']['7']['totalGold'] +\n",
    "            data['frames'][-1]['participantFrames']['8']['totalGold'] +\n",
    "            data['frames'][-1]['participantFrames']['9']['totalGold'] +\n",
    "            data['frames'][-1]['participantFrames']['10']['totalGold']\n",
    "        ),\n",
    "        'redXP' : (\n",
    "            data['frames'][-1]['participantFrames']['6']['xp'] + \n",
    "            data['frames'][-1]['participantFrames']['7']['xp'] +\n",
    "            data['frames'][-1]['participantFrames']['8']['xp'] +\n",
    "            data['frames'][-1]['participantFrames']['9']['xp'] +\n",
    "            data['frames'][-1]['participantFrames']['10']['xp']\n",
    "        )\n",
    "    })"
   ]
  },
  {
   "cell_type": "code",
   "execution_count": 87,
   "id": "037017b4",
   "metadata": {},
   "outputs": [],
   "source": [
    "X_train = pd.DataFrame(df)"
   ]
  },
  {
   "cell_type": "markdown",
   "id": "fdf00aef",
   "metadata": {},
   "source": [
    "**Not using difference in gold/xp, and using team totals.**"
   ]
  },
  {
   "cell_type": "code",
   "execution_count": 88,
   "id": "cc1e50a8",
   "metadata": {},
   "outputs": [],
   "source": [
    "gold = ['blueGold', 'redGold']\n",
    "xp = ['blueXP', 'redXP']\n",
    "both = ['blueGold', 'redGold', 'blueXP', 'redXP']"
   ]
  },
  {
   "cell_type": "markdown",
   "id": "6cbd8443",
   "metadata": {},
   "source": [
    "**Just gold**"
   ]
  },
  {
   "cell_type": "code",
   "execution_count": 89,
   "id": "365a5788",
   "metadata": {},
   "outputs": [
    {
     "data": {
      "text/plain": [
       "0.705375"
      ]
     },
     "execution_count": 89,
     "metadata": {},
     "output_type": "execute_result"
    }
   ],
   "source": [
    "logreg = LogisticRegression().fit(X_train[gold], y_train['winner'] == 100)\n",
    "\n",
    "accuracy_score(y_train['winner'] == 100, logreg.predict(X_train[gold]))"
   ]
  },
  {
   "cell_type": "markdown",
   "id": "cda4b2d5",
   "metadata": {},
   "source": [
    "**Just xp**"
   ]
  },
  {
   "cell_type": "code",
   "execution_count": 90,
   "id": "21a3d1f3",
   "metadata": {},
   "outputs": [
    {
     "data": {
      "text/plain": [
       "0.672"
      ]
     },
     "execution_count": 90,
     "metadata": {},
     "output_type": "execute_result"
    }
   ],
   "source": [
    "logreg = LogisticRegression().fit(X_train[xp], y_train['winner'] == 100)\n",
    "\n",
    "accuracy_score(y_train['winner'] == 100, logreg.predict(X_train[xp]))"
   ]
  },
  {
   "cell_type": "markdown",
   "id": "6d191359",
   "metadata": {},
   "source": [
    "**Both**"
   ]
  },
  {
   "cell_type": "code",
   "execution_count": 91,
   "id": "4a3fc56b",
   "metadata": {},
   "outputs": [
    {
     "data": {
      "text/plain": [
       "0.70975"
      ]
     },
     "execution_count": 91,
     "metadata": {},
     "output_type": "execute_result"
    }
   ],
   "source": [
    "logreg = LogisticRegression().fit(X_train[both], y_train['winner'] == 100)\n",
    "\n",
    "accuracy_score(y_train['winner'] == 100, logreg.predict(X_train[both]))"
   ]
  },
  {
   "cell_type": "code",
   "execution_count": 92,
   "id": "924c2fb9",
   "metadata": {},
   "outputs": [],
   "source": [
    "df = []\n",
    "\n",
    "for matchId in range(8000, 10000):\n",
    "    f = open('../data/test_timelines/test_timelines/timeline_{matchIds}.json'.format(matchIds = matchId))\n",
    "    \n",
    "    data = json.load(f)\n",
    "    df.append({\n",
    "        'matchId' : matchId,\n",
    "        'blueGold' : (\n",
    "            data['frames'][-1]['participantFrames']['1']['totalGold'] +\n",
    "            data['frames'][-1]['participantFrames']['2']['totalGold'] +\n",
    "            data['frames'][-1]['participantFrames']['3']['totalGold'] +\n",
    "            data['frames'][-1]['participantFrames']['4']['totalGold'] +\n",
    "            data['frames'][-1]['participantFrames']['5']['totalGold']\n",
    "        ),\n",
    "        'blueXP' : (\n",
    "            data['frames'][-1]['participantFrames']['1']['xp'] +\n",
    "            data['frames'][-1]['participantFrames']['2']['xp'] +\n",
    "            data['frames'][-1]['participantFrames']['3']['xp'] +\n",
    "            data['frames'][-1]['participantFrames']['4']['xp'] +\n",
    "            data['frames'][-1]['participantFrames']['5']['xp']\n",
    "        ),\n",
    "        'redGold' : (\n",
    "            data['frames'][-1]['participantFrames']['6']['totalGold'] + \n",
    "            data['frames'][-1]['participantFrames']['7']['totalGold'] +\n",
    "            data['frames'][-1]['participantFrames']['8']['totalGold'] +\n",
    "            data['frames'][-1]['participantFrames']['9']['totalGold'] +\n",
    "            data['frames'][-1]['participantFrames']['10']['totalGold']\n",
    "        ),\n",
    "        'redXP' : (\n",
    "            data['frames'][-1]['participantFrames']['6']['xp'] + \n",
    "            data['frames'][-1]['participantFrames']['7']['xp'] +\n",
    "            data['frames'][-1]['participantFrames']['8']['xp'] +\n",
    "            data['frames'][-1]['participantFrames']['9']['xp'] +\n",
    "            data['frames'][-1]['participantFrames']['10']['xp']\n",
    "        )\n",
    "    })\n",
    "    \n",
    "X_test = pd.DataFrame(df)"
   ]
  },
  {
   "cell_type": "code",
   "execution_count": 93,
   "id": "d6d2c826",
   "metadata": {},
   "outputs": [],
   "source": [
    "submissionV4 = X_test[['matchId']]\n",
    "submissionV4 = submissionV4.copy()\n",
    "submissionV4['win'] = logreg.predict(X_test[both]) == True\n",
    "submissionV4['winner'] = np.where(submissionV4['win'] == True, 100, 200)\n",
    "submissionV4 = submissionV4[['matchId', 'winner']]"
   ]
  },
  {
   "cell_type": "code",
   "execution_count": 94,
   "id": "6f08d54f",
   "metadata": {},
   "outputs": [],
   "source": [
    "submissionV4.to_csv('../submissions/submissionV4.csv', index = False)"
   ]
  },
  {
   "cell_type": "markdown",
   "id": "ba6e24b0",
   "metadata": {},
   "source": [
    "**Using difference in gold/xp, and using team totals**"
   ]
  },
  {
   "cell_type": "code",
   "execution_count": 95,
   "id": "d1592e5e",
   "metadata": {},
   "outputs": [],
   "source": [
    "X_train['goldDifference'] = X_train['blueGold'] - X_train['redGold']\n",
    "\n",
    "X_train['xpDifference'] = X_train['blueXP'] - X_train['redXP']\n",
    "\n",
    "gold = ['goldDifference']\n",
    "xp = ['xpDifference']\n",
    "both = ['goldDifference', 'xpDifference']"
   ]
  },
  {
   "cell_type": "markdown",
   "id": "5c48ab41",
   "metadata": {},
   "source": [
    "**Just Gold**"
   ]
  },
  {
   "cell_type": "code",
   "execution_count": 96,
   "id": "4e9a53e4",
   "metadata": {},
   "outputs": [
    {
     "data": {
      "text/plain": [
       "0.7055"
      ]
     },
     "execution_count": 96,
     "metadata": {},
     "output_type": "execute_result"
    }
   ],
   "source": [
    "logreg = LogisticRegression().fit(X_train[gold], y_train['winner'] == 100)\n",
    "\n",
    "accuracy_score(y_train['winner'] == 100, logreg.predict(X_train[gold]))"
   ]
  },
  {
   "cell_type": "markdown",
   "id": "0f57739f",
   "metadata": {},
   "source": [
    "**Just xp**"
   ]
  },
  {
   "cell_type": "code",
   "execution_count": 97,
   "id": "5125ce9c",
   "metadata": {},
   "outputs": [
    {
     "data": {
      "text/plain": [
       "0.6715"
      ]
     },
     "execution_count": 97,
     "metadata": {},
     "output_type": "execute_result"
    }
   ],
   "source": [
    "logreg = LogisticRegression().fit(X_train[xp], y_train['winner'] == 100)\n",
    "\n",
    "accuracy_score(y_train['winner'] == 100, logreg.predict(X_train[xp]))"
   ]
  },
  {
   "cell_type": "markdown",
   "id": "71ed44b3",
   "metadata": {},
   "source": [
    "**Both**"
   ]
  },
  {
   "cell_type": "code",
   "execution_count": 98,
   "id": "43d413f3",
   "metadata": {},
   "outputs": [
    {
     "data": {
      "text/plain": [
       "0.70825"
      ]
     },
     "execution_count": 98,
     "metadata": {},
     "output_type": "execute_result"
    }
   ],
   "source": [
    "logreg = LogisticRegression().fit(X_train[both], y_train['winner'] == 100)\n",
    "\n",
    "accuracy_score(y_train['winner'] == 100, logreg.predict(X_train[both]))"
   ]
  },
  {
   "cell_type": "markdown",
   "id": "ed2769d4",
   "metadata": {},
   "source": [
    "**Adding kills to gold/xp totals**"
   ]
  },
  {
   "cell_type": "code",
   "execution_count": 99,
   "id": "0e44184a",
   "metadata": {},
   "outputs": [],
   "source": [
    "df = []\n",
    "\n",
    "for matchId in range(0, 8000):\n",
    "    f = open('../data/train_timelines/train_timelines/timeline_{matchIds}.json'.format(matchIds = matchId))\n",
    "    \n",
    "    data = json.load(f)\n",
    "    for frame in range(len(data['frames']) - 1, -1, -1):\n",
    "        for i in range(0, len(data['frames'][frame]['events'])):\n",
    "            if data['frames'][frame]['events'][i]['type']  == 'CHAMPION_KILL':\n",
    "                if data['frames'][frame]['events'][i]['killerId'] < 6:\n",
    "                    df.append({\n",
    "                        'matchId' : matchId,\n",
    "                        'blueKills' : 1,\n",
    "                        'redKills' : 0\n",
    "\n",
    "                    })\n",
    "                else:\n",
    "                    df.append({\n",
    "                        'matchId' : matchId,\n",
    "                        'blueKills' : 0,\n",
    "                        'redKills' : 1\n",
    "\n",
    "                    })\n",
    "            else:\n",
    "                pass\n",
    "\n",
    "killsTrain = pd.DataFrame(df).groupby('matchId').sum().reset_index()"
   ]
  },
  {
   "cell_type": "code",
   "execution_count": 100,
   "id": "ac5109e0",
   "metadata": {},
   "outputs": [],
   "source": [
    "X_train = X_train.merge(right = killsTrain, on = ['matchId'], how = 'left').fillna(0)\n",
    "\n",
    "three = ['blueGold', 'redGold', 'blueXP', 'redXP', 'blueKills', 'redKills']"
   ]
  },
  {
   "cell_type": "markdown",
   "id": "6c1beadc",
   "metadata": {},
   "source": [
    "**Not using difference in gold/xp/kills, and using team totals.**"
   ]
  },
  {
   "cell_type": "code",
   "execution_count": 101,
   "id": "f6eb1e14",
   "metadata": {},
   "outputs": [
    {
     "data": {
      "text/plain": [
       "0.70975"
      ]
     },
     "execution_count": 101,
     "metadata": {},
     "output_type": "execute_result"
    }
   ],
   "source": [
    "logreg = LogisticRegression().fit(X_train[three], y_train['winner'] == 100)\n",
    "\n",
    "accuracy_score(y_train['winner'] == 100, logreg.predict(X_train[three]))"
   ]
  },
  {
   "cell_type": "code",
   "execution_count": null,
   "id": "354565ae",
   "metadata": {},
   "outputs": [],
   "source": []
  }
 ],
 "metadata": {
  "kernelspec": {
   "display_name": "Python 3 (ipykernel)",
   "language": "python",
   "name": "python3"
  },
  "language_info": {
   "codemirror_mode": {
    "name": "ipython",
    "version": 3
   },
   "file_extension": ".py",
   "mimetype": "text/x-python",
   "name": "python",
   "nbconvert_exporter": "python",
   "pygments_lexer": "ipython3",
   "version": "3.9.16"
  }
 },
 "nbformat": 4,
 "nbformat_minor": 5
}
