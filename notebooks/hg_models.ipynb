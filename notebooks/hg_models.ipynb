{
 "cells": [
  {
   "cell_type": "code",
   "execution_count": 60,
   "id": "7499ddb6",
   "metadata": {},
   "outputs": [],
   "source": [
    "import pandas as pd\n",
    "import numpy as np\n",
    "import json\n",
    "from sklearn.linear_model import LogisticRegression\n",
    "from sklearn.pipeline import Pipeline\n",
    "from sklearn.preprocessing import OneHotEncoder, PolynomialFeatures, StandardScaler\n",
    "from sklearn.compose import ColumnTransformer\n",
    "from sklearn.feature_selection import VarianceThreshold\n",
    "from sklearn.metrics import accuracy_score"
   ]
  },
  {
   "cell_type": "code",
   "execution_count": 61,
   "id": "944f00dd",
   "metadata": {},
   "outputs": [],
   "source": [
    "y_train = pd.read_csv('../data/train_winners.csv')"
   ]
  },
  {
   "cell_type": "code",
   "execution_count": 62,
   "id": "cdb94036",
   "metadata": {},
   "outputs": [],
   "source": [
    "f = open('../data/train_timelines/train_timelines/timeline_{matchIds}.json'.format(matchIds = 0))\n",
    "\n",
    "data = json.load(f)"
   ]
  },
  {
   "cell_type": "code",
   "execution_count": 63,
   "id": "978b6453",
   "metadata": {},
   "outputs": [
    {
     "data": {
      "text/plain": [
       "'DRAGON'"
      ]
     },
     "execution_count": 63,
     "metadata": {},
     "output_type": "execute_result"
    }
   ],
   "source": [
    "data['frames'][8]['events'][40]['monsterType']"
   ]
  },
  {
   "cell_type": "markdown",
   "id": "f7c917e4",
   "metadata": {},
   "source": [
    "**Looking into gold and XP**"
   ]
  },
  {
   "cell_type": "code",
   "execution_count": 64,
   "id": "6bd9cc95",
   "metadata": {},
   "outputs": [],
   "source": [
    "df = []"
   ]
  },
  {
   "cell_type": "code",
   "execution_count": 65,
   "id": "60958823",
   "metadata": {},
   "outputs": [],
   "source": [
    "for matchId in range(0, 8000):\n",
    "    f = open('../data/train_timelines/train_timelines/timeline_{matchIds}.json'.format(matchIds = matchId))\n",
    "    \n",
    "    data = json.load(f)\n",
    "    df.append({\n",
    "        'matchId' : matchId,\n",
    "        'blueGold' : (\n",
    "            data['frames'][-1]['participantFrames']['1']['totalGold'] +\n",
    "            data['frames'][-1]['participantFrames']['2']['totalGold'] +\n",
    "            data['frames'][-1]['participantFrames']['3']['totalGold'] +\n",
    "            data['frames'][-1]['participantFrames']['4']['totalGold'] +\n",
    "            data['frames'][-1]['participantFrames']['5']['totalGold']\n",
    "        ),\n",
    "        'blueXP' : (\n",
    "            data['frames'][-1]['participantFrames']['1']['xp'] +\n",
    "            data['frames'][-1]['participantFrames']['2']['xp'] +\n",
    "            data['frames'][-1]['participantFrames']['3']['xp'] +\n",
    "            data['frames'][-1]['participantFrames']['4']['xp'] +\n",
    "            data['frames'][-1]['participantFrames']['5']['xp']\n",
    "        ),\n",
    "        'redGold' : (\n",
    "            data['frames'][-1]['participantFrames']['6']['totalGold'] + \n",
    "            data['frames'][-1]['participantFrames']['7']['totalGold'] +\n",
    "            data['frames'][-1]['participantFrames']['8']['totalGold'] +\n",
    "            data['frames'][-1]['participantFrames']['9']['totalGold'] +\n",
    "            data['frames'][-1]['participantFrames']['10']['totalGold']\n",
    "        ),\n",
    "        'redXP' : (\n",
    "            data['frames'][-1]['participantFrames']['6']['xp'] + \n",
    "            data['frames'][-1]['participantFrames']['7']['xp'] +\n",
    "            data['frames'][-1]['participantFrames']['8']['xp'] +\n",
    "            data['frames'][-1]['participantFrames']['9']['xp'] +\n",
    "            data['frames'][-1]['participantFrames']['10']['xp']\n",
    "        )\n",
    "    })"
   ]
  },
  {
   "cell_type": "code",
   "execution_count": 66,
   "id": "037017b4",
   "metadata": {},
   "outputs": [],
   "source": [
    "X_train = pd.DataFrame(df)"
   ]
  },
  {
   "cell_type": "markdown",
   "id": "fdf00aef",
   "metadata": {},
   "source": [
    "**Not using difference in gold/xp, and using team totals.**"
   ]
  },
  {
   "cell_type": "code",
   "execution_count": 67,
   "id": "cc1e50a8",
   "metadata": {},
   "outputs": [],
   "source": [
    "gold = ['blueGold', 'redGold']\n",
    "xp = ['blueXP', 'redXP']\n",
    "both = ['blueGold', 'redGold', 'blueXP', 'redXP']"
   ]
  },
  {
   "cell_type": "markdown",
   "id": "6cbd8443",
   "metadata": {},
   "source": [
    "**Just gold**"
   ]
  },
  {
   "cell_type": "code",
   "execution_count": 68,
   "id": "365a5788",
   "metadata": {},
   "outputs": [
    {
     "data": {
      "text/plain": [
       "0.705375"
      ]
     },
     "execution_count": 68,
     "metadata": {},
     "output_type": "execute_result"
    }
   ],
   "source": [
    "logreg = LogisticRegression().fit(X_train[gold], y_train['winner'] == 100)\n",
    "\n",
    "accuracy_score(y_train['winner'] == 100, logreg.predict(X_train[gold]))"
   ]
  },
  {
   "cell_type": "markdown",
   "id": "cda4b2d5",
   "metadata": {},
   "source": [
    "**Just xp**"
   ]
  },
  {
   "cell_type": "code",
   "execution_count": 69,
   "id": "21a3d1f3",
   "metadata": {},
   "outputs": [
    {
     "data": {
      "text/plain": [
       "0.672"
      ]
     },
     "execution_count": 69,
     "metadata": {},
     "output_type": "execute_result"
    }
   ],
   "source": [
    "logreg = LogisticRegression().fit(X_train[xp], y_train['winner'] == 100)\n",
    "\n",
    "accuracy_score(y_train['winner'] == 100, logreg.predict(X_train[xp]))"
   ]
  },
  {
   "cell_type": "markdown",
   "id": "6d191359",
   "metadata": {},
   "source": [
    "**Gold/xp - submissionV4**"
   ]
  },
  {
   "cell_type": "code",
   "execution_count": 70,
   "id": "4a3fc56b",
   "metadata": {},
   "outputs": [
    {
     "data": {
      "text/plain": [
       "0.70975"
      ]
     },
     "execution_count": 70,
     "metadata": {},
     "output_type": "execute_result"
    }
   ],
   "source": [
    "logreg = LogisticRegression().fit(X_train[both], y_train['winner'] == 100)\n",
    "\n",
    "accuracy_score(y_train['winner'] == 100, logreg.predict(X_train[both]))"
   ]
  },
  {
   "cell_type": "code",
   "execution_count": 71,
   "id": "924c2fb9",
   "metadata": {},
   "outputs": [],
   "source": [
    "df = []\n",
    "\n",
    "for matchId in range(8000, 10000):\n",
    "    f = open('../data/test_timelines/test_timelines/timeline_{matchIds}.json'.format(matchIds = matchId))\n",
    "    \n",
    "    data = json.load(f)\n",
    "    df.append({\n",
    "        'matchId' : matchId,\n",
    "        'blueGold' : (\n",
    "            data['frames'][-1]['participantFrames']['1']['totalGold'] +\n",
    "            data['frames'][-1]['participantFrames']['2']['totalGold'] +\n",
    "            data['frames'][-1]['participantFrames']['3']['totalGold'] +\n",
    "            data['frames'][-1]['participantFrames']['4']['totalGold'] +\n",
    "            data['frames'][-1]['participantFrames']['5']['totalGold']\n",
    "        ),\n",
    "        'blueXP' : (\n",
    "            data['frames'][-1]['participantFrames']['1']['xp'] +\n",
    "            data['frames'][-1]['participantFrames']['2']['xp'] +\n",
    "            data['frames'][-1]['participantFrames']['3']['xp'] +\n",
    "            data['frames'][-1]['participantFrames']['4']['xp'] +\n",
    "            data['frames'][-1]['participantFrames']['5']['xp']\n",
    "        ),\n",
    "        'redGold' : (\n",
    "            data['frames'][-1]['participantFrames']['6']['totalGold'] + \n",
    "            data['frames'][-1]['participantFrames']['7']['totalGold'] +\n",
    "            data['frames'][-1]['participantFrames']['8']['totalGold'] +\n",
    "            data['frames'][-1]['participantFrames']['9']['totalGold'] +\n",
    "            data['frames'][-1]['participantFrames']['10']['totalGold']\n",
    "        ),\n",
    "        'redXP' : (\n",
    "            data['frames'][-1]['participantFrames']['6']['xp'] + \n",
    "            data['frames'][-1]['participantFrames']['7']['xp'] +\n",
    "            data['frames'][-1]['participantFrames']['8']['xp'] +\n",
    "            data['frames'][-1]['participantFrames']['9']['xp'] +\n",
    "            data['frames'][-1]['participantFrames']['10']['xp']\n",
    "        )\n",
    "    })\n",
    "    \n",
    "X_test = pd.DataFrame(df)"
   ]
  },
  {
   "cell_type": "code",
   "execution_count": 72,
   "id": "d6d2c826",
   "metadata": {},
   "outputs": [],
   "source": [
    "submissionV4 = X_test[['matchId']]\n",
    "submissionV4 = submissionV4.copy()\n",
    "submissionV4['win'] = logreg.predict(X_test[both])\n",
    "submissionV4['winner'] = np.where(submissionV4['win'] == True, 100, 200)\n",
    "submissionV4 = submissionV4[['matchId', 'winner']]"
   ]
  },
  {
   "cell_type": "code",
   "execution_count": 73,
   "id": "4e584737",
   "metadata": {},
   "outputs": [],
   "source": [
    "#submissionV4.to_csv('../submissions/submissionV4.csv', index = False)"
   ]
  },
  {
   "cell_type": "markdown",
   "id": "ba6e24b0",
   "metadata": {},
   "source": [
    "**Using difference in gold/xp, and using team totals**"
   ]
  },
  {
   "cell_type": "code",
   "execution_count": 74,
   "id": "d1592e5e",
   "metadata": {},
   "outputs": [],
   "source": [
    "X_train['goldDifference'] = X_train['blueGold'] - X_train['redGold']\n",
    "\n",
    "X_train['xpDifference'] = X_train['blueXP'] - X_train['redXP']\n",
    "\n",
    "gold = ['goldDifference']\n",
    "xp = ['xpDifference']\n",
    "both = ['goldDifference', 'xpDifference']"
   ]
  },
  {
   "cell_type": "markdown",
   "id": "5c48ab41",
   "metadata": {},
   "source": [
    "**Just Gold**"
   ]
  },
  {
   "cell_type": "code",
   "execution_count": 75,
   "id": "4e9a53e4",
   "metadata": {},
   "outputs": [
    {
     "data": {
      "text/plain": [
       "0.7055"
      ]
     },
     "execution_count": 75,
     "metadata": {},
     "output_type": "execute_result"
    }
   ],
   "source": [
    "logreg = LogisticRegression().fit(X_train[gold], y_train['winner'] == 100)\n",
    "\n",
    "accuracy_score(y_train['winner'] == 100, logreg.predict(X_train[gold]))"
   ]
  },
  {
   "cell_type": "markdown",
   "id": "0f57739f",
   "metadata": {},
   "source": [
    "**Just xp**"
   ]
  },
  {
   "cell_type": "code",
   "execution_count": 76,
   "id": "5125ce9c",
   "metadata": {},
   "outputs": [
    {
     "data": {
      "text/plain": [
       "0.6715"
      ]
     },
     "execution_count": 76,
     "metadata": {},
     "output_type": "execute_result"
    }
   ],
   "source": [
    "logreg = LogisticRegression().fit(X_train[xp], y_train['winner'] == 100)\n",
    "\n",
    "accuracy_score(y_train['winner'] == 100, logreg.predict(X_train[xp]))"
   ]
  },
  {
   "cell_type": "markdown",
   "id": "71ed44b3",
   "metadata": {},
   "source": [
    "**Gold/xp**"
   ]
  },
  {
   "cell_type": "code",
   "execution_count": 77,
   "id": "43d413f3",
   "metadata": {},
   "outputs": [
    {
     "data": {
      "text/plain": [
       "0.70825"
      ]
     },
     "execution_count": 77,
     "metadata": {},
     "output_type": "execute_result"
    }
   ],
   "source": [
    "logreg = LogisticRegression().fit(X_train[both], y_train['winner'] == 100)\n",
    "\n",
    "accuracy_score(y_train['winner'] == 100, logreg.predict(X_train[both]))"
   ]
  },
  {
   "cell_type": "markdown",
   "id": "ed2769d4",
   "metadata": {},
   "source": [
    "**Adding kills to gold/xp totals**"
   ]
  },
  {
   "cell_type": "code",
   "execution_count": 78,
   "id": "0e44184a",
   "metadata": {},
   "outputs": [],
   "source": [
    "df = []\n",
    "\n",
    "for matchId in range(0, 8000):\n",
    "    f = open('../data/train_timelines/train_timelines/timeline_{matchIds}.json'.format(matchIds = matchId))\n",
    "    \n",
    "    data = json.load(f)\n",
    "    for frame in range(len(data['frames']) - 1, -1, -1):\n",
    "        for i in range(0, len(data['frames'][frame]['events'])):\n",
    "            if data['frames'][frame]['events'][i]['type']  == 'CHAMPION_KILL':\n",
    "                if data['frames'][frame]['events'][i]['killerId'] < 6:\n",
    "                    df.append({\n",
    "                        'matchId' : matchId,\n",
    "                        'blueKills' : 1,\n",
    "                        'redKills' : 0\n",
    "\n",
    "                    })\n",
    "                else:\n",
    "                    df.append({\n",
    "                        'matchId' : matchId,\n",
    "                        'blueKills' : 0,\n",
    "                        'redKills' : 1\n",
    "\n",
    "                    })\n",
    "            else:\n",
    "                pass\n",
    "\n",
    "killsTrain = pd.DataFrame(df).groupby('matchId').sum().reset_index()"
   ]
  },
  {
   "cell_type": "code",
   "execution_count": 79,
   "id": "ac5109e0",
   "metadata": {},
   "outputs": [],
   "source": [
    "X_train = X_train.merge(right = killsTrain, on = ['matchId'], how = 'left').fillna(0)\n",
    "\n",
    "kills = ['blueGold', 'redGold', 'blueXP', 'redXP', 'blueKills', 'redKills']"
   ]
  },
  {
   "cell_type": "markdown",
   "id": "6c1beadc",
   "metadata": {},
   "source": [
    "**Not using difference in gold/xp/kills, and using team totals.**"
   ]
  },
  {
   "cell_type": "code",
   "execution_count": 80,
   "id": "f6eb1e14",
   "metadata": {},
   "outputs": [
    {
     "data": {
      "text/plain": [
       "0.70975"
      ]
     },
     "execution_count": 80,
     "metadata": {},
     "output_type": "execute_result"
    }
   ],
   "source": [
    "logreg = LogisticRegression().fit(X_train[kills], y_train['winner'] == 100)\n",
    "\n",
    "accuracy_score(y_train['winner'] == 100, logreg.predict(X_train[kills]))"
   ]
  },
  {
   "cell_type": "markdown",
   "id": "1e29a506",
   "metadata": {},
   "source": [
    "**Adding dragons to gold/xp/kills totals**"
   ]
  },
  {
   "cell_type": "code",
   "execution_count": 81,
   "id": "e8fd01e0",
   "metadata": {},
   "outputs": [],
   "source": [
    "df = []\n",
    "\n",
    "for matchId in range(0, 8000):\n",
    "    f = open('../data/train_timelines/train_timelines/timeline_{matchIds}.json'.format(matchIds = matchId))\n",
    "    \n",
    "    data = json.load(f)\n",
    "    for frame in range(len(data['frames']) - 1, -1, -1):\n",
    "        for i in range(0, len(data['frames'][frame]['events'])):\n",
    "            if data['frames'][frame]['events'][i]['type']  == 'ELITE_MONSTER_KILL':\n",
    "                if data['frames'][frame]['events'][i]['monsterType']  == 'DRAGON':\n",
    "                    if data['frames'][frame]['events'][i]['killerTeamId'] == 100:\n",
    "                        df.append({\n",
    "                            'matchId' : matchId,\n",
    "                            'blueDragons' : 1,\n",
    "                            'redDragons' : 0\n",
    "                        })\n",
    "                    else:\n",
    "                        df.append({\n",
    "                            'matchId' : matchId,\n",
    "                            'blueDragons' : 0,\n",
    "                            'redDragons' : 1\n",
    "                        })\n",
    "                else:\n",
    "                    pass\n",
    "            else:\n",
    "                pass\n",
    "\n",
    "dragonsTrain = pd.DataFrame(df).groupby('matchId').sum().reset_index()"
   ]
  },
  {
   "cell_type": "code",
   "execution_count": 82,
   "id": "f1afef94",
   "metadata": {},
   "outputs": [],
   "source": [
    "X_train = X_train.merge(right = dragonsTrain, on = ['matchId'], how = 'left').fillna(0)\n",
    "\n",
    "dragons = ['blueGold', 'redGold', 'blueXP', 'redXP', 'blueKills', 'redKills', 'blueDragons', 'redDragons']"
   ]
  },
  {
   "cell_type": "markdown",
   "id": "83fd41eb",
   "metadata": {},
   "source": [
    "**Not using difference in gold/xp/kills/dragons, and using team totals.**"
   ]
  },
  {
   "cell_type": "code",
   "execution_count": 83,
   "id": "615f4aaa",
   "metadata": {},
   "outputs": [
    {
     "data": {
      "text/plain": [
       "0.70975"
      ]
     },
     "execution_count": 83,
     "metadata": {},
     "output_type": "execute_result"
    }
   ],
   "source": [
    "logreg = LogisticRegression().fit(X_train[dragons], y_train['winner'] == 100)\n",
    "\n",
    "accuracy_score(y_train['winner'] == 100, logreg.predict(X_train[dragons]))"
   ]
  },
  {
   "cell_type": "markdown",
   "id": "08215c4a",
   "metadata": {},
   "source": [
    "**Trying lasso regression using gold/xp/kills/dragons - submissionV5**"
   ]
  },
  {
   "cell_type": "code",
   "execution_count": 84,
   "id": "699a51d8",
   "metadata": {},
   "outputs": [
    {
     "data": {
      "text/html": [
       "<style>#sk-container-id-3 {color: black;background-color: white;}#sk-container-id-3 pre{padding: 0;}#sk-container-id-3 div.sk-toggleable {background-color: white;}#sk-container-id-3 label.sk-toggleable__label {cursor: pointer;display: block;width: 100%;margin-bottom: 0;padding: 0.3em;box-sizing: border-box;text-align: center;}#sk-container-id-3 label.sk-toggleable__label-arrow:before {content: \"▸\";float: left;margin-right: 0.25em;color: #696969;}#sk-container-id-3 label.sk-toggleable__label-arrow:hover:before {color: black;}#sk-container-id-3 div.sk-estimator:hover label.sk-toggleable__label-arrow:before {color: black;}#sk-container-id-3 div.sk-toggleable__content {max-height: 0;max-width: 0;overflow: hidden;text-align: left;background-color: #f0f8ff;}#sk-container-id-3 div.sk-toggleable__content pre {margin: 0.2em;color: black;border-radius: 0.25em;background-color: #f0f8ff;}#sk-container-id-3 input.sk-toggleable__control:checked~div.sk-toggleable__content {max-height: 200px;max-width: 100%;overflow: auto;}#sk-container-id-3 input.sk-toggleable__control:checked~label.sk-toggleable__label-arrow:before {content: \"▾\";}#sk-container-id-3 div.sk-estimator input.sk-toggleable__control:checked~label.sk-toggleable__label {background-color: #d4ebff;}#sk-container-id-3 div.sk-label input.sk-toggleable__control:checked~label.sk-toggleable__label {background-color: #d4ebff;}#sk-container-id-3 input.sk-hidden--visually {border: 0;clip: rect(1px 1px 1px 1px);clip: rect(1px, 1px, 1px, 1px);height: 1px;margin: -1px;overflow: hidden;padding: 0;position: absolute;width: 1px;}#sk-container-id-3 div.sk-estimator {font-family: monospace;background-color: #f0f8ff;border: 1px dotted black;border-radius: 0.25em;box-sizing: border-box;margin-bottom: 0.5em;}#sk-container-id-3 div.sk-estimator:hover {background-color: #d4ebff;}#sk-container-id-3 div.sk-parallel-item::after {content: \"\";width: 100%;border-bottom: 1px solid gray;flex-grow: 1;}#sk-container-id-3 div.sk-label:hover label.sk-toggleable__label {background-color: #d4ebff;}#sk-container-id-3 div.sk-serial::before {content: \"\";position: absolute;border-left: 1px solid gray;box-sizing: border-box;top: 0;bottom: 0;left: 50%;z-index: 0;}#sk-container-id-3 div.sk-serial {display: flex;flex-direction: column;align-items: center;background-color: white;padding-right: 0.2em;padding-left: 0.2em;position: relative;}#sk-container-id-3 div.sk-item {position: relative;z-index: 1;}#sk-container-id-3 div.sk-parallel {display: flex;align-items: stretch;justify-content: center;background-color: white;position: relative;}#sk-container-id-3 div.sk-item::before, #sk-container-id-3 div.sk-parallel-item::before {content: \"\";position: absolute;border-left: 1px solid gray;box-sizing: border-box;top: 0;bottom: 0;left: 50%;z-index: -1;}#sk-container-id-3 div.sk-parallel-item {display: flex;flex-direction: column;z-index: 1;position: relative;background-color: white;}#sk-container-id-3 div.sk-parallel-item:first-child::after {align-self: flex-end;width: 50%;}#sk-container-id-3 div.sk-parallel-item:last-child::after {align-self: flex-start;width: 50%;}#sk-container-id-3 div.sk-parallel-item:only-child::after {width: 0;}#sk-container-id-3 div.sk-dashed-wrapped {border: 1px dashed gray;margin: 0 0.4em 0.5em 0.4em;box-sizing: border-box;padding-bottom: 0.4em;background-color: white;}#sk-container-id-3 div.sk-label label {font-family: monospace;font-weight: bold;display: inline-block;line-height: 1.2em;}#sk-container-id-3 div.sk-label-container {text-align: center;}#sk-container-id-3 div.sk-container {/* jupyter's `normalize.less` sets `[hidden] { display: none; }` but bootstrap.min.css set `[hidden] { display: none !important; }` so we also need the `!important` here to be able to override the default hidden behavior on the sphinx rendered scikit-learn.org. See: https://github.com/scikit-learn/scikit-learn/issues/21755 */display: inline-block !important;position: relative;}#sk-container-id-3 div.sk-text-repr-fallback {display: none;}</style><div id=\"sk-container-id-3\" class=\"sk-top-container\"><div class=\"sk-text-repr-fallback\"><pre>Pipeline(steps=[(&#x27;pf&#x27;,\n",
       "                 PolynomialFeatures(include_bias=False, interaction_only=True)),\n",
       "                (&#x27;vt&#x27;, VarianceThreshold()), (&#x27;scaler&#x27;, StandardScaler()),\n",
       "                (&#x27;logistic&#x27;, LogisticRegression(max_iter=10000))])</pre><b>In a Jupyter environment, please rerun this cell to show the HTML representation or trust the notebook. <br />On GitHub, the HTML representation is unable to render, please try loading this page with nbviewer.org.</b></div><div class=\"sk-container\" hidden><div class=\"sk-item sk-dashed-wrapped\"><div class=\"sk-label-container\"><div class=\"sk-label sk-toggleable\"><input class=\"sk-toggleable__control sk-hidden--visually\" id=\"sk-estimator-id-11\" type=\"checkbox\" ><label for=\"sk-estimator-id-11\" class=\"sk-toggleable__label sk-toggleable__label-arrow\">Pipeline</label><div class=\"sk-toggleable__content\"><pre>Pipeline(steps=[(&#x27;pf&#x27;,\n",
       "                 PolynomialFeatures(include_bias=False, interaction_only=True)),\n",
       "                (&#x27;vt&#x27;, VarianceThreshold()), (&#x27;scaler&#x27;, StandardScaler()),\n",
       "                (&#x27;logistic&#x27;, LogisticRegression(max_iter=10000))])</pre></div></div></div><div class=\"sk-serial\"><div class=\"sk-item\"><div class=\"sk-estimator sk-toggleable\"><input class=\"sk-toggleable__control sk-hidden--visually\" id=\"sk-estimator-id-12\" type=\"checkbox\" ><label for=\"sk-estimator-id-12\" class=\"sk-toggleable__label sk-toggleable__label-arrow\">PolynomialFeatures</label><div class=\"sk-toggleable__content\"><pre>PolynomialFeatures(include_bias=False, interaction_only=True)</pre></div></div></div><div class=\"sk-item\"><div class=\"sk-estimator sk-toggleable\"><input class=\"sk-toggleable__control sk-hidden--visually\" id=\"sk-estimator-id-13\" type=\"checkbox\" ><label for=\"sk-estimator-id-13\" class=\"sk-toggleable__label sk-toggleable__label-arrow\">VarianceThreshold</label><div class=\"sk-toggleable__content\"><pre>VarianceThreshold()</pre></div></div></div><div class=\"sk-item\"><div class=\"sk-estimator sk-toggleable\"><input class=\"sk-toggleable__control sk-hidden--visually\" id=\"sk-estimator-id-14\" type=\"checkbox\" ><label for=\"sk-estimator-id-14\" class=\"sk-toggleable__label sk-toggleable__label-arrow\">StandardScaler</label><div class=\"sk-toggleable__content\"><pre>StandardScaler()</pre></div></div></div><div class=\"sk-item\"><div class=\"sk-estimator sk-toggleable\"><input class=\"sk-toggleable__control sk-hidden--visually\" id=\"sk-estimator-id-15\" type=\"checkbox\" ><label for=\"sk-estimator-id-15\" class=\"sk-toggleable__label sk-toggleable__label-arrow\">LogisticRegression</label><div class=\"sk-toggleable__content\"><pre>LogisticRegression(max_iter=10000)</pre></div></div></div></div></div></div></div>"
      ],
      "text/plain": [
       "Pipeline(steps=[('pf',\n",
       "                 PolynomialFeatures(include_bias=False, interaction_only=True)),\n",
       "                ('vt', VarianceThreshold()), ('scaler', StandardScaler()),\n",
       "                ('logistic', LogisticRegression(max_iter=10000))])"
      ]
     },
     "execution_count": 84,
     "metadata": {},
     "output_type": "execute_result"
    }
   ],
   "source": [
    "pipe = Pipeline(\n",
    "    steps = [\n",
    "        ('pf', PolynomialFeatures(interaction_only = True, include_bias = False)),\n",
    "        ('vt', VarianceThreshold()),\n",
    "        ('scaler', StandardScaler()),\n",
    "        ('logistic', LogisticRegression(max_iter = 10000))\n",
    "    ]\n",
    ")\n",
    "\n",
    "pipe.fit(X_train[dragons], y_train['winner'] == 100)"
   ]
  },
  {
   "cell_type": "code",
   "execution_count": 85,
   "id": "90b71768",
   "metadata": {},
   "outputs": [
    {
     "data": {
      "text/plain": [
       "0.71925"
      ]
     },
     "execution_count": 85,
     "metadata": {},
     "output_type": "execute_result"
    }
   ],
   "source": [
    "accuracy_score(y_train['winner'] == 100, pipe.predict(X_train[dragons]))"
   ]
  },
  {
   "cell_type": "code",
   "execution_count": 86,
   "id": "d8cfdc6c",
   "metadata": {},
   "outputs": [],
   "source": [
    "df = []\n",
    "\n",
    "for matchId in range(8000, 10000):\n",
    "    f = open('../data/test_timelines/test_timelines/timeline_{matchIds}.json'.format(matchIds = matchId))\n",
    "    \n",
    "    data = json.load(f)\n",
    "    for frame in range(len(data['frames']) - 1, -1, -1):\n",
    "        for i in range(0, len(data['frames'][frame]['events'])):\n",
    "            if data['frames'][frame]['events'][i]['type']  == 'CHAMPION_KILL':\n",
    "                if data['frames'][frame]['events'][i]['killerId'] < 6:\n",
    "                    df.append({\n",
    "                        'matchId' : matchId,\n",
    "                        'blueKills' : 1,\n",
    "                        'redKills' : 0\n",
    "\n",
    "                    })\n",
    "                else:\n",
    "                    df.append({\n",
    "                        'matchId' : matchId,\n",
    "                        'blueKills' : 0,\n",
    "                        'redKills' : 1\n",
    "\n",
    "                    })\n",
    "            else:\n",
    "                pass\n",
    "\n",
    "killsTest = pd.DataFrame(df).groupby('matchId').sum().reset_index()"
   ]
  },
  {
   "cell_type": "code",
   "execution_count": 87,
   "id": "b7d67fa5",
   "metadata": {},
   "outputs": [
    {
     "data": {
      "text/html": [
       "<div>\n",
       "<style scoped>\n",
       "    .dataframe tbody tr th:only-of-type {\n",
       "        vertical-align: middle;\n",
       "    }\n",
       "\n",
       "    .dataframe tbody tr th {\n",
       "        vertical-align: top;\n",
       "    }\n",
       "\n",
       "    .dataframe thead th {\n",
       "        text-align: right;\n",
       "    }\n",
       "</style>\n",
       "<table border=\"1\" class=\"dataframe\">\n",
       "  <thead>\n",
       "    <tr style=\"text-align: right;\">\n",
       "      <th></th>\n",
       "      <th>matchId</th>\n",
       "      <th>blueGold</th>\n",
       "      <th>blueXP</th>\n",
       "      <th>redGold</th>\n",
       "      <th>redXP</th>\n",
       "      <th>blueKills</th>\n",
       "      <th>redKills</th>\n",
       "    </tr>\n",
       "  </thead>\n",
       "  <tbody>\n",
       "    <tr>\n",
       "      <th>0</th>\n",
       "      <td>8000</td>\n",
       "      <td>17313</td>\n",
       "      <td>18099</td>\n",
       "      <td>16933</td>\n",
       "      <td>17117</td>\n",
       "      <td>7.0</td>\n",
       "      <td>5.0</td>\n",
       "    </tr>\n",
       "    <tr>\n",
       "      <th>1</th>\n",
       "      <td>8001</td>\n",
       "      <td>17492</td>\n",
       "      <td>16756</td>\n",
       "      <td>17533</td>\n",
       "      <td>16527</td>\n",
       "      <td>8.0</td>\n",
       "      <td>8.0</td>\n",
       "    </tr>\n",
       "    <tr>\n",
       "      <th>2</th>\n",
       "      <td>8002</td>\n",
       "      <td>16206</td>\n",
       "      <td>16640</td>\n",
       "      <td>17480</td>\n",
       "      <td>16518</td>\n",
       "      <td>8.0</td>\n",
       "      <td>10.0</td>\n",
       "    </tr>\n",
       "    <tr>\n",
       "      <th>3</th>\n",
       "      <td>8003</td>\n",
       "      <td>17784</td>\n",
       "      <td>16759</td>\n",
       "      <td>18126</td>\n",
       "      <td>17173</td>\n",
       "      <td>10.0</td>\n",
       "      <td>10.0</td>\n",
       "    </tr>\n",
       "    <tr>\n",
       "      <th>4</th>\n",
       "      <td>8004</td>\n",
       "      <td>16341</td>\n",
       "      <td>18377</td>\n",
       "      <td>16993</td>\n",
       "      <td>17113</td>\n",
       "      <td>4.0</td>\n",
       "      <td>7.0</td>\n",
       "    </tr>\n",
       "    <tr>\n",
       "      <th>...</th>\n",
       "      <td>...</td>\n",
       "      <td>...</td>\n",
       "      <td>...</td>\n",
       "      <td>...</td>\n",
       "      <td>...</td>\n",
       "      <td>...</td>\n",
       "      <td>...</td>\n",
       "    </tr>\n",
       "    <tr>\n",
       "      <th>1995</th>\n",
       "      <td>9995</td>\n",
       "      <td>15440</td>\n",
       "      <td>17688</td>\n",
       "      <td>15060</td>\n",
       "      <td>17845</td>\n",
       "      <td>5.0</td>\n",
       "      <td>4.0</td>\n",
       "    </tr>\n",
       "    <tr>\n",
       "      <th>1996</th>\n",
       "      <td>9996</td>\n",
       "      <td>19123</td>\n",
       "      <td>18273</td>\n",
       "      <td>17433</td>\n",
       "      <td>18545</td>\n",
       "      <td>8.0</td>\n",
       "      <td>8.0</td>\n",
       "    </tr>\n",
       "    <tr>\n",
       "      <th>1997</th>\n",
       "      <td>9997</td>\n",
       "      <td>14719</td>\n",
       "      <td>17211</td>\n",
       "      <td>17129</td>\n",
       "      <td>18888</td>\n",
       "      <td>3.0</td>\n",
       "      <td>8.0</td>\n",
       "    </tr>\n",
       "    <tr>\n",
       "      <th>1998</th>\n",
       "      <td>9998</td>\n",
       "      <td>18353</td>\n",
       "      <td>18298</td>\n",
       "      <td>15134</td>\n",
       "      <td>16823</td>\n",
       "      <td>8.0</td>\n",
       "      <td>5.0</td>\n",
       "    </tr>\n",
       "    <tr>\n",
       "      <th>1999</th>\n",
       "      <td>9999</td>\n",
       "      <td>14561</td>\n",
       "      <td>17572</td>\n",
       "      <td>13631</td>\n",
       "      <td>16774</td>\n",
       "      <td>2.0</td>\n",
       "      <td>3.0</td>\n",
       "    </tr>\n",
       "  </tbody>\n",
       "</table>\n",
       "<p>2000 rows × 7 columns</p>\n",
       "</div>"
      ],
      "text/plain": [
       "      matchId  blueGold  blueXP  redGold  redXP  blueKills  redKills\n",
       "0        8000     17313   18099    16933  17117        7.0       5.0\n",
       "1        8001     17492   16756    17533  16527        8.0       8.0\n",
       "2        8002     16206   16640    17480  16518        8.0      10.0\n",
       "3        8003     17784   16759    18126  17173       10.0      10.0\n",
       "4        8004     16341   18377    16993  17113        4.0       7.0\n",
       "...       ...       ...     ...      ...    ...        ...       ...\n",
       "1995     9995     15440   17688    15060  17845        5.0       4.0\n",
       "1996     9996     19123   18273    17433  18545        8.0       8.0\n",
       "1997     9997     14719   17211    17129  18888        3.0       8.0\n",
       "1998     9998     18353   18298    15134  16823        8.0       5.0\n",
       "1999     9999     14561   17572    13631  16774        2.0       3.0\n",
       "\n",
       "[2000 rows x 7 columns]"
      ]
     },
     "execution_count": 87,
     "metadata": {},
     "output_type": "execute_result"
    }
   ],
   "source": [
    "X_test = X_test.merge(right = killsTest, on = ['matchId'], how = 'left').fillna(0)"
   ]
  },
  {
   "cell_type": "code",
   "execution_count": 88,
   "id": "a3323aeb",
   "metadata": {},
   "outputs": [],
   "source": [
    "df = []\n",
    "\n",
    "for matchId in range(8000, 10000):\n",
    "    f = open('../data/test_timelines/test_timelines/timeline_{matchIds}.json'.format(matchIds = matchId))\n",
    "    \n",
    "    data = json.load(f)\n",
    "    for frame in range(len(data['frames']) - 1, -1, -1):\n",
    "        for i in range(0, len(data['frames'][frame]['events'])):\n",
    "            if data['frames'][frame]['events'][i]['type']  == 'ELITE_MONSTER_KILL':\n",
    "                if data['frames'][frame]['events'][i]['monsterType']  == 'DRAGON':\n",
    "                    if data['frames'][frame]['events'][i]['killerTeamId'] == 100:\n",
    "                        df.append({\n",
    "                            'matchId' : matchId,\n",
    "                            'blueDragons' : 1,\n",
    "                            'redDragons' : 0\n",
    "                        })\n",
    "                    else:\n",
    "                        df.append({\n",
    "                            'matchId' : matchId,\n",
    "                            'blueDragons' : 0,\n",
    "                            'redDragons' : 1\n",
    "                        })\n",
    "                else:\n",
    "                    pass\n",
    "            else:\n",
    "                pass\n",
    "\n",
    "dragonsTest = pd.DataFrame(df).groupby('matchId').sum().reset_index()"
   ]
  },
  {
   "cell_type": "code",
   "execution_count": 89,
   "id": "0f3b804a",
   "metadata": {},
   "outputs": [
    {
     "data": {
      "text/html": [
       "<div>\n",
       "<style scoped>\n",
       "    .dataframe tbody tr th:only-of-type {\n",
       "        vertical-align: middle;\n",
       "    }\n",
       "\n",
       "    .dataframe tbody tr th {\n",
       "        vertical-align: top;\n",
       "    }\n",
       "\n",
       "    .dataframe thead th {\n",
       "        text-align: right;\n",
       "    }\n",
       "</style>\n",
       "<table border=\"1\" class=\"dataframe\">\n",
       "  <thead>\n",
       "    <tr style=\"text-align: right;\">\n",
       "      <th></th>\n",
       "      <th>matchId</th>\n",
       "      <th>blueGold</th>\n",
       "      <th>blueXP</th>\n",
       "      <th>redGold</th>\n",
       "      <th>redXP</th>\n",
       "      <th>blueKills</th>\n",
       "      <th>redKills</th>\n",
       "      <th>blueDragons</th>\n",
       "      <th>redDragons</th>\n",
       "    </tr>\n",
       "  </thead>\n",
       "  <tbody>\n",
       "    <tr>\n",
       "      <th>0</th>\n",
       "      <td>8000</td>\n",
       "      <td>17313</td>\n",
       "      <td>18099</td>\n",
       "      <td>16933</td>\n",
       "      <td>17117</td>\n",
       "      <td>7.0</td>\n",
       "      <td>5.0</td>\n",
       "      <td>0.0</td>\n",
       "      <td>1.0</td>\n",
       "    </tr>\n",
       "    <tr>\n",
       "      <th>1</th>\n",
       "      <td>8001</td>\n",
       "      <td>17492</td>\n",
       "      <td>16756</td>\n",
       "      <td>17533</td>\n",
       "      <td>16527</td>\n",
       "      <td>8.0</td>\n",
       "      <td>8.0</td>\n",
       "      <td>0.0</td>\n",
       "      <td>0.0</td>\n",
       "    </tr>\n",
       "    <tr>\n",
       "      <th>2</th>\n",
       "      <td>8002</td>\n",
       "      <td>16206</td>\n",
       "      <td>16640</td>\n",
       "      <td>17480</td>\n",
       "      <td>16518</td>\n",
       "      <td>8.0</td>\n",
       "      <td>10.0</td>\n",
       "      <td>0.0</td>\n",
       "      <td>0.0</td>\n",
       "    </tr>\n",
       "    <tr>\n",
       "      <th>3</th>\n",
       "      <td>8003</td>\n",
       "      <td>17784</td>\n",
       "      <td>16759</td>\n",
       "      <td>18126</td>\n",
       "      <td>17173</td>\n",
       "      <td>10.0</td>\n",
       "      <td>10.0</td>\n",
       "      <td>0.0</td>\n",
       "      <td>0.0</td>\n",
       "    </tr>\n",
       "    <tr>\n",
       "      <th>4</th>\n",
       "      <td>8004</td>\n",
       "      <td>16341</td>\n",
       "      <td>18377</td>\n",
       "      <td>16993</td>\n",
       "      <td>17113</td>\n",
       "      <td>4.0</td>\n",
       "      <td>7.0</td>\n",
       "      <td>0.0</td>\n",
       "      <td>1.0</td>\n",
       "    </tr>\n",
       "    <tr>\n",
       "      <th>...</th>\n",
       "      <td>...</td>\n",
       "      <td>...</td>\n",
       "      <td>...</td>\n",
       "      <td>...</td>\n",
       "      <td>...</td>\n",
       "      <td>...</td>\n",
       "      <td>...</td>\n",
       "      <td>...</td>\n",
       "      <td>...</td>\n",
       "    </tr>\n",
       "    <tr>\n",
       "      <th>1995</th>\n",
       "      <td>9995</td>\n",
       "      <td>15440</td>\n",
       "      <td>17688</td>\n",
       "      <td>15060</td>\n",
       "      <td>17845</td>\n",
       "      <td>5.0</td>\n",
       "      <td>4.0</td>\n",
       "      <td>1.0</td>\n",
       "      <td>0.0</td>\n",
       "    </tr>\n",
       "    <tr>\n",
       "      <th>1996</th>\n",
       "      <td>9996</td>\n",
       "      <td>19123</td>\n",
       "      <td>18273</td>\n",
       "      <td>17433</td>\n",
       "      <td>18545</td>\n",
       "      <td>8.0</td>\n",
       "      <td>8.0</td>\n",
       "      <td>0.0</td>\n",
       "      <td>0.0</td>\n",
       "    </tr>\n",
       "    <tr>\n",
       "      <th>1997</th>\n",
       "      <td>9997</td>\n",
       "      <td>14719</td>\n",
       "      <td>17211</td>\n",
       "      <td>17129</td>\n",
       "      <td>18888</td>\n",
       "      <td>3.0</td>\n",
       "      <td>8.0</td>\n",
       "      <td>1.0</td>\n",
       "      <td>0.0</td>\n",
       "    </tr>\n",
       "    <tr>\n",
       "      <th>1998</th>\n",
       "      <td>9998</td>\n",
       "      <td>18353</td>\n",
       "      <td>18298</td>\n",
       "      <td>15134</td>\n",
       "      <td>16823</td>\n",
       "      <td>8.0</td>\n",
       "      <td>5.0</td>\n",
       "      <td>1.0</td>\n",
       "      <td>0.0</td>\n",
       "    </tr>\n",
       "    <tr>\n",
       "      <th>1999</th>\n",
       "      <td>9999</td>\n",
       "      <td>14561</td>\n",
       "      <td>17572</td>\n",
       "      <td>13631</td>\n",
       "      <td>16774</td>\n",
       "      <td>2.0</td>\n",
       "      <td>3.0</td>\n",
       "      <td>0.0</td>\n",
       "      <td>0.0</td>\n",
       "    </tr>\n",
       "  </tbody>\n",
       "</table>\n",
       "<p>2000 rows × 9 columns</p>\n",
       "</div>"
      ],
      "text/plain": [
       "      matchId  blueGold  blueXP  redGold  redXP  blueKills  redKills  \\\n",
       "0        8000     17313   18099    16933  17117        7.0       5.0   \n",
       "1        8001     17492   16756    17533  16527        8.0       8.0   \n",
       "2        8002     16206   16640    17480  16518        8.0      10.0   \n",
       "3        8003     17784   16759    18126  17173       10.0      10.0   \n",
       "4        8004     16341   18377    16993  17113        4.0       7.0   \n",
       "...       ...       ...     ...      ...    ...        ...       ...   \n",
       "1995     9995     15440   17688    15060  17845        5.0       4.0   \n",
       "1996     9996     19123   18273    17433  18545        8.0       8.0   \n",
       "1997     9997     14719   17211    17129  18888        3.0       8.0   \n",
       "1998     9998     18353   18298    15134  16823        8.0       5.0   \n",
       "1999     9999     14561   17572    13631  16774        2.0       3.0   \n",
       "\n",
       "      blueDragons  redDragons  \n",
       "0             0.0         1.0  \n",
       "1             0.0         0.0  \n",
       "2             0.0         0.0  \n",
       "3             0.0         0.0  \n",
       "4             0.0         1.0  \n",
       "...           ...         ...  \n",
       "1995          1.0         0.0  \n",
       "1996          0.0         0.0  \n",
       "1997          1.0         0.0  \n",
       "1998          1.0         0.0  \n",
       "1999          0.0         0.0  \n",
       "\n",
       "[2000 rows x 9 columns]"
      ]
     },
     "execution_count": 89,
     "metadata": {},
     "output_type": "execute_result"
    }
   ],
   "source": [
    "X_test = X_test.merge(right = dragonsTest, on = ['matchId'], how = 'left').fillna(0)"
   ]
  },
  {
   "cell_type": "code",
   "execution_count": 97,
   "id": "13b3eb32",
   "metadata": {},
   "outputs": [],
   "source": [
    "submissionV5 = X_test[['matchId']]\n",
    "submissionV5 = submissionV5.copy()\n",
    "submissionV5['win'] = pipe.predict(X_test[dragons])\n",
    "submissionV5['winner'] = np.where(submissionV5['win'] == True, 100, 200)\n",
    "submissionV5 = submissionV5[['matchId', 'winner']]"
   ]
  },
  {
   "cell_type": "code",
   "execution_count": 99,
   "id": "531ed48f",
   "metadata": {},
   "outputs": [],
   "source": [
    "#submissionV5.to_csv('../submissions/submissionV5.csv', index = False)"
   ]
  }
 ],
 "metadata": {
  "kernelspec": {
   "display_name": "Python 3 (ipykernel)",
   "language": "python",
   "name": "python3"
  },
  "language_info": {
   "codemirror_mode": {
    "name": "ipython",
    "version": 3
   },
   "file_extension": ".py",
   "mimetype": "text/x-python",
   "name": "python",
   "nbconvert_exporter": "python",
   "pygments_lexer": "ipython3",
   "version": "3.9.16"
  }
 },
 "nbformat": 4,
 "nbformat_minor": 5
}
